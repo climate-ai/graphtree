{
 "cells": [
  {
   "cell_type": "markdown",
   "metadata": {},
   "source": [
    "# OneForest \n",
    "\n",
    "We introduce the package OneForest an end-to-end method to create a neural network able to predict tree charcteristics from the sing image of the tree canopy. To train the network, we need a large tree dataset. However, there is no existing high-resolution labeled dataset on forests. \n",
    "\n",
    "We developed OneForest, a solution to leverage our understanding of trees by smartly combining ground and drone data. The main challenge is to properly transfer information from a small dataset of groundtruth observations to a large set of detected trees on drone images. Using different mapping methods robust to GPS noise in ground data and inexact tree detection, we fuse citizen science and remote sensing data. We use the resulting dataset to train a Convolutional Neural Network to predict tree characteristics (such as tree species) based on the drone image of the tree canopy.\n",
    "\n",
    "This Jupyter notebook presents the three steps of OneForest:\n",
    "- Data pre-processing: preparation of ground and drone data (tree detection, features,...)\n",
    "- Mapping drone and ground data with different methods: Nearest Neighbours, Graph Matching Networks, Optimal Transport, Gromov-Wasserstein\n",
    "- Species Classification by a Neural newtrok trained on the resulting tree datasets obtained after the mapping step.\n",
    "\n",
    "We work on two datasets:\n",
    "- Ecuador dataset\n",
    "- NEON dataset\n"
   ]
  },
  {
   "cell_type": "markdown",
   "metadata": {},
   "source": [
    "## Load packages and modules"
   ]
  },
  {
   "cell_type": "code",
   "execution_count": null,
   "metadata": {},
   "outputs": [],
   "source": [
    "!pip install -Ur ../requirements.txt"
   ]
  },
  {
   "cell_type": "code",
   "execution_count": null,
   "metadata": {},
   "outputs": [],
   "source": [
    "import os\n",
    "import matplotlib.pylab as plt\n",
    "import seaborn as sns\n",
    "\n",
    "colors = sns.color_palette('tab10')\n",
    "mypalette={'NN':colors[0], 'GMN':colors[4], 'OT':colors[1], 'OT on GPS position':colors[1], 'GW':colors[2], 'OT on GPS position + Tree species':colors[3]}\n",
    "import numpy as np\n",
    "import pandas as pd\n",
    "import rasterio\n",
    "from rasterio.plot import reshape_as_image\n",
    "import PIL\n",
    "PIL.Image.MAX_IMAGE_PIXELS = None\n",
    "from PIL import Image\n",
    "import tensorflow\n",
    "import sys\n",
    "package = os.path.dirname(os.getcwd())\n",
    "sys.path.append(package)\n",
    "sys.path.append(package + '/utils')\n",
    "sys.path"
   ]
  },
  {
   "cell_type": "code",
   "execution_count": null,
   "metadata": {},
   "outputs": [],
   "source": [
    "from utils.extract_features import *\n",
    "from utils.deepforest_detection import *\n",
    "from utils.visualisation import *\n",
    "from utils.plot_folium import *\n",
    "from utils.plot_density import *\n",
    "from utils.mapping import *"
   ]
  },
  {
   "cell_type": "markdown",
   "metadata": {},
   "source": [
    "## Ecuador Dataset"
   ]
  },
  {
   "cell_type": "markdown",
   "metadata": {},
   "source": [
    "### 1. Data Preparation"
   ]
  },
  {
   "cell_type": "markdown",
   "metadata": {},
   "source": [
    "#### Orthomosaics RGB Features\n",
    "\n",
    "- Extract fetaures for each Orthomosaic RGB\n",
    "- Split the Orthomosaics into 400x400 tiles\n",
    "\n",
    "Return the dataframe ortho_data.csv that contains all important information (position) on orthomosaics RGB: minimimal and maximal latititude, longitude, width and height (pixels)."
   ]
  },
  {
   "cell_type": "code",
   "execution_count": null,
   "metadata": {
    "scrolled": true
   },
   "outputs": [],
   "source": [
    "# Final Plot Information\n",
    "\n",
    "shapefile = gpd.read_file(\"Ecuador/wwf_ecuador/Merged_final_plots/Merged_final_plots.shp\")\n",
    "merged_final = pd.DataFrame(shapefile)"
   ]
  },
  {
   "cell_type": "code",
   "execution_count": null,
   "metadata": {
    "scrolled": true
   },
   "outputs": [],
   "source": [
    "merged_final.Name"
   ]
  },
  {
   "cell_type": "code",
   "execution_count": null,
   "metadata": {},
   "outputs": [],
   "source": [
    "print(merged_final.Name.iloc[4])\n",
    "merged_final.geometry.iloc[4]\n"
   ]
  },
  {
   "cell_type": "code",
   "execution_count": null,
   "metadata": {},
   "outputs": [],
   "source": [
    "tfw_file = open(\"Ecuador/wwf_ecuador/RGB Orthomosaics/Flora Pluas RGB.tfw\", \"r\")\n",
    "tfw_raw_data = tfw_file.read()  #reading all text from file\n",
    "tfw_raw_data.split(\"\\n\")\n",
    "# [ratio_x, , , -ratio_y, lon_min, lat_max, ]"
   ]
  },
  {
   "cell_type": "code",
   "execution_count": null,
   "metadata": {},
   "outputs": [],
   "source": [
    "# Open image file for reading (binary mode)\n",
    "path_to_raster = os.path.join('Ecuador/wwf_ecuador/RGB Orthomosaics/Flora Pluas RGB.tif')\n",
    "f = open(path_to_raster, 'rb')\n",
    "\n",
    "# Return Exif tags\n",
    "tags = exifread.process_file(f)\n",
    "# Print the tag/ value pairs\n",
    "for tag in tags.keys():\n",
    "    print(\"Key: %s, value %s\" % (tag, tags[tag]))"
   ]
  },
  {
   "cell_type": "code",
   "execution_count": null,
   "metadata": {},
   "outputs": [],
   "source": [
    "directory = \"Ecuador/wwf_ecuador/RGB Orthomosaics\"\n",
    "ortho_features = read_orthomosaics(directory)"
   ]
  },
  {
   "cell_type": "code",
   "execution_count": null,
   "metadata": {},
   "outputs": [],
   "source": [
    "def myround(x, base=4000):\n",
    "    return base * (int(x/base)+1)\n",
    "\n",
    "def clear(mydir):\n",
    "    for f in os.listdir(mydir):\n",
    "        os.remove(os.path.join(mydir, f))"
   ]
  },
  {
   "cell_type": "code",
   "execution_count": null,
   "metadata": {},
   "outputs": [],
   "source": [
    "ortho_dim = []\n",
    "for file in os.listdir('Ecuador/wwf_ecuador/RGB Orthomosaics'):\n",
    "    if file.endswith('.tif'):\n",
    "        # Open image file for reading (binary mode)\n",
    "        path_to_raster = os.path.join('Ecuador/wwf_ecuador/RGB Orthomosaics', file)\n",
    "        f = open(path_to_raster, 'rb')\n",
    "\n",
    "        # Return Exif tags\n",
    "        tags = exifread.process_file(f)\n",
    "        width = int(str(tags['Image ImageWidth']))\n",
    "        height = int(str(tags['Image ImageLength']))\n",
    "        name = file.replace('.tif','')\n",
    "        ortho_dim.append([name, width, height])\n",
    "\n",
    "        \"\"\"\n",
    "        # Padding (optional) for a better split\n",
    "\n",
    "        img = cv2.imread(path_to_raster)\n",
    "        img_padded = cv2.copyMakeBorder(img, 0, myround(height)-height, 0, myround(width)-width, cv2.BORDER_CONSTANT, value=0)\n",
    "        cv2.imwrite('wwf_ecuador/RGB Orthomosaics/{}_padded.tif'.format(name), img_padded)\n",
    "\n",
    "        plt.imshow(cv2.cvtColor(img_padded, cv2.COLOR_BGR2RGB))\n",
    "        \"\"\"\n",
    "        tiles_dir = \"Ecuador/images/%s\"%name\n",
    "        if not os.path.exists(tiles_dir):\n",
    "            os.makedirs(tiles_dir)\n",
    "        clear(tiles_dir)\n",
    "        split_raster(path_to_raster, base_dir=tiles_dir, patch_size=4000, patch_overlap=0.05)\n",
    "\n",
    "ortho_dim = pd.DataFrame(data = ortho_dim, columns=['name', 'width', 'height'])   "
   ]
  },
  {
   "cell_type": "code",
   "execution_count": null,
   "metadata": {},
   "outputs": [],
   "source": [
    "ortho_data = pd.merge(ortho_features, ortho_dim, on = 'name')\n",
    "ortho_data['ratio_x_init'] = ortho_data.apply(lambda x: ratio(x.width, x.lon_min, x.lon_max), axis=1)\n",
    "ortho_data['ratio_y_init'] = ortho_data.apply(lambda x: ratio(x.height, x.lat_min, x.lat_max), axis=1)\n",
    "ortho_data.to_csv('Ecuador/features/ortho_data.csv', index = False)\n",
    "ortho_data"
   ]
  },
  {
   "cell_type": "code",
   "execution_count": null,
   "metadata": {
    "scrolled": true
   },
   "outputs": [],
   "source": [
    "ortho_data = pd.read_csv('Ecuador/features/ortho_data.csv', index_col = None)\n",
    "\n",
    "list_sites = ['Carlos Vera Arteaga RGB', 'Carlos Vera Guevara RGB', 'Leonor Aspiazu RGB', \n",
    "             'Manuel Macias RGB', 'Nestor Macias RGB', 'Flora Pluas RGB']\n",
    "\n",
    "for site_name in list_sites:\n",
    "    # Compute Scale\n",
    "    # Bounds Drone\n",
    "    site = ortho_data[ortho_data.name == site_name]\n",
    "    max_lat = site['lat_max'].values[0]\n",
    "    min_lat = site['lat_min'].values[0]\n",
    "    max_lon = site['lon_max'].values[0]\n",
    "    min_lon = site['lon_min'].values[0]\n",
    "    bounds_drone = [min_lon, min_lat, max_lon, max_lat]\n",
    "\n",
    "    # Bounds Ground\n",
    "    ground_files = pd.read_csv('Ecuador/features/initial_ground_data.csv')\n",
    "    ground_files_site = ground_files.loc[(min_lat < ground_files.lat) \n",
    "                                    & (ground_files.lat < max_lat) \n",
    "                                    & (min_lon < ground_files.lon)\n",
    "                                   & (ground_files.lon < max_lon)]\n",
    "    bounds_ground = get_bounds(ground_files_site)\n",
    "\n",
    "    scale = get_scale(bounds_drone, bounds_ground)\n",
    "\n",
    "    # Store scale for each site in ortho_data\n",
    "    ortho_data.loc[ortho_data.name == site_name, 'scale_lat'] = scale[0]\n",
    "    ortho_data.loc[ortho_data.name == site_name, 'scale_lon'] = scale[1]\n",
    "    \n",
    "    # Store scale for each site in ortho_data\n",
    "    ortho_data.loc[ortho_data.name == site_name, 'center_lat'] = (min_lat + max_lat) * .5\n",
    "    ortho_data.loc[ortho_data.name == site_name, 'center_lon'] = (min_lon + max_lon) * .5\n",
    "\n",
    "# Redefine ratios\n",
    "ortho_data['ratio_y'] = ortho_data['ratio_y_init']/ortho_data['scale_lat']\n",
    "ortho_data['ratio_x'] = ortho_data['ratio_x_init']/ortho_data['scale_lon']\n",
    "\n",
    "# Rename\n",
    "ortho_data = ortho_data.rename(columns={'lat_min': 'lat_min_init', 'lat_max': 'lat_max_init', 'lon_min': 'lon_min_init', 'lon_max': 'lon_max_init'})\n",
    "\n",
    "# Rescale drone bounds\n",
    "ortho_data['lat_min'] = (ortho_data['lat_min_init'] - ortho_data['center_lat'])/ortho_data['scale_lat'] + ortho_data['center_lat']\n",
    "ortho_data['lat_max'] = (ortho_data['lat_max_init'] - ortho_data['center_lat'])/ortho_data['scale_lat'] + ortho_data['center_lat']\n",
    "ortho_data['lon_min'] = (ortho_data['lon_min_init'] - ortho_data['center_lon'])/ortho_data['scale_lon'] + ortho_data['center_lon']\n",
    "ortho_data['lon_max'] = (ortho_data['lon_max_init'] - ortho_data['center_lon'])/ortho_data['scale_lon'] + ortho_data['center_lon']\n",
    "\n",
    "\n",
    "ortho_data.to_csv('Ecuador/features/ortho_data.csv', index = False)\n",
    "ortho_data\n",
    "        "
   ]
  },
  {
   "cell_type": "markdown",
   "metadata": {},
   "source": [
    "#### DeepForest Tree Detection\n",
    "\n",
    "Return annotations by DeepForest for each site in Ecuador."
   ]
  },
  {
   "cell_type": "code",
   "execution_count": null,
   "metadata": {
    "scrolled": true
   },
   "outputs": [],
   "source": [
    "# Load model\n",
    "model = deepforest.deepforest(saved_model = os.getcwd()+'/Ecuador/deepforest/final_model_4000_epochs_35.h5')"
   ]
  },
  {
   "cell_type": "code",
   "execution_count": null,
   "metadata": {
    "scrolled": true
   },
   "outputs": [],
   "source": [
    "# Split images and predict bounding box - return annotation files\n",
    "column_names = ['img_path', 'xmin', 'ymin', 'xmax', 'ymax', 'score']\n",
    "\n",
    "dir = os.getcwd()\n",
    "for folder in os.listdir(\"Ecuador/images\"):\n",
    "    if not folder.startswith('.'):\n",
    "        annotations_files = pd.DataFrame(columns = column_names)\n",
    "        for file in os.listdir(\"Ecuador/images/\"+folder):\n",
    "            if not file.startswith('.'):\n",
    "                tile_annotations = get_annotations(dir+\"/images/\"+folder+\"/\"+file, model)\n",
    "                annotations_files = pd.concat([annotations_files, tile_annotations])\n",
    "        annotations_files = annotations_files.reset_index(drop=True)\n",
    "        file_path = 'Ecuador/annotations/{}_annotations.csv'.format(folder)\n",
    "        annotations_files.to_csv(file_path, index=False)\n",
    "        print('DeepForest Annotations are saved for site {}'.format(folder))\n"
   ]
  },
  {
   "cell_type": "markdown",
   "metadata": {},
   "source": [
    "#### Process Data\n",
    "\n",
    "For each tree annotation by DeepForest on drone images, we add features: tree location, tile position, site, probability of the tree to belong to the dominant species \"Musacea\"."
   ]
  },
  {
   "cell_type": "code",
   "execution_count": null,
   "metadata": {
    "scrolled": true
   },
   "outputs": [],
   "source": [
    "# Get the CNN for initial tree species prediction for Ecuador dataset\n",
    "cnn_model = tensorflow.keras.models.load_model('Ecuador/cnn/cnn_model')"
   ]
  },
  {
   "cell_type": "code",
   "execution_count": null,
   "metadata": {
    "scrolled": true
   },
   "outputs": [],
   "source": [
    "ortho_data = pd.read_csv('features/ortho_data.csv', index_col = None)\n",
    "\n",
    "list_sites = ['Carlos Vera Arteaga RGB', 'Carlos Vera Guevara RGB', 'Leonor Aspiazu RGB', \n",
    "             'Manuel Macias RGB', 'Nestor Macias RGB', 'Flora Pluas RGB']\n",
    "\n",
    "for site_name in list_sites:\n",
    "    for file in os.listdir(\"Ecuador/annotations\"):\n",
    "        if (file == '{}_annotations.csv'.format(site_name)):\n",
    "            file_path = 'Ecuador/annotations/%s'%file\n",
    "            df = pd.read_csv(file_path)\n",
    "\n",
    "\n",
    "            df['img_name'], df['tile_index'], df['tile_xmin'], df['tile_ymin'], df['tile_xmax'], df['tile_ymax'] = zip(*df['img_path'].map(expand_tile_features))\n",
    "            df[['x', 'y']] = df.apply(lambda x: [get_center(x.xmin,x.xmax), get_center(x.ymin,x.ymax)], axis=1, result_type=\"expand\")\n",
    "\n",
    "            df['Xmin'] = df.xmin + df.tile_xmin\n",
    "            df['Ymin'] = df.ymin + df.tile_ymin\n",
    "            df['Xmax'] = df.xmax + df.tile_xmin\n",
    "            df['Ymax'] = df.ymax + df.tile_ymin\n",
    "            df['X'] = df.x + df.tile_xmin\n",
    "            df['Y'] = df.y + df.tile_ymin\n",
    "\n",
    "            df[['lon', 'lat']] = df.apply(lambda x: convert_xy_tile_to_lonlat(x.img_name, x.tile_xmin, x.tile_ymin, x.x, x.y, ortho_data), axis=1, result_type=\"expand\")\n",
    "            df.to_csv('Ecuador/annotations/{}_processed.csv'.format(file.replace('.csv','')), index = False)\n",
    "            df = predict_musacea(df, site_name, cnn_model)\n",
    "            df.to_csv('Ecuador/annotations/{}_processed_cnn.csv'.format(file.replace('.csv','')), index = False)\n",
    "            print('Site {} is done'.format(site_name))\n",
    "        "
   ]
  },
  {
   "cell_type": "code",
   "execution_count": null,
   "metadata": {},
   "outputs": [],
   "source": [
    "# Merge annotations files of each site in a unique annotations file\n",
    "final_annotations = pd.DataFrame()\n",
    "\n",
    "for file in os.listdir(\"Ecuador/annotations\"):\n",
    "    if file.endswith('cnn.csv'):\n",
    "        file_path = 'Ecuador/annotations/%s'%file\n",
    "        df = pd.read_csv(file_path)\n",
    "        final_annotations = pd.concat([final_annotations, df])\n",
    "final_annotations.to_csv('Ecuador/annotations/final_annotations.csv')"
   ]
  },
  {
   "cell_type": "markdown",
   "metadata": {},
   "source": [
    "#### Visualize DeepForest Predictions"
   ]
  },
  {
   "cell_type": "code",
   "execution_count": null,
   "metadata": {},
   "outputs": [],
   "source": [
    "site_name = input('Enter the site name to explore: ')"
   ]
  },
  {
   "cell_type": "code",
   "execution_count": null,
   "metadata": {},
   "outputs": [],
   "source": [
    "# Draw bounding boxes on images\n",
    "path_to_img = 'Ecuador/images/{}'.format(site_name)\n",
    "path_to_annot = 'Ecuador/annotations/{}_annotations_processed.csv'.format(site_name)\n",
    "annot = pd.read_csv(path_to_annot)\n",
    "\n",
    "for tile in os.listdir(path_to_img):\n",
    "    img_boxes = annot.loc[annot.img_path == tile]\n",
    "    if len(img_boxes)>0:\n",
    "        #predict image\n",
    "        boxes = img_boxes[[\"xmin\", \"ymin\", \"xmax\", \"ymax\"]].to_numpy()\n",
    "        deepforest_annotations = box_to_annotation(boxes)\n",
    "\n",
    "        path = os.path.join(path_to_img, tile)\n",
    "        plt.figure(figsize=(15,15))\n",
    "        im = cv2.imread(path)\n",
    "        im = draw_annotations(im, deepforest_annotations, color=(255, 0, 0), label_to_name=None, show_caption = True, cv2_authorized = False, thickness = 5)\n",
    "        plt.show()\n",
    "    break\n"
   ]
  },
  {
   "cell_type": "markdown",
   "metadata": {},
   "source": [
    "#### Ground data"
   ]
  },
  {
   "cell_type": "code",
   "execution_count": null,
   "metadata": {},
   "outputs": [],
   "source": [
    "# Extract citizen science\n",
    "# For each tree (reported), we have GPS coordinates, species, size,..\n",
    "\n",
    "shapefile = gpd.read_file(\"Ecuador/wwf_ecuador/Final_Trees/Final_Trees.shp\")\n",
    "ground_files = pd.DataFrame(shapefile)\n",
    "ground_files.columns"
   ]
  },
  {
   "cell_type": "code",
   "execution_count": null,
   "metadata": {},
   "outputs": [],
   "source": [
    "# We keep as features for each Tree: \n",
    "# Name: 'Variedad_1', \n",
    "# Lat:'_Gps_1_lat', \n",
    "# Lon:'_Gps_1_lon', \n",
    "# Average Diameter: 'Ave_Diamet', \n",
    "# Height of Tree: 'Altura_del', \n",
    "# Year when the tree was planted: 'Plant_Yr'\n",
    "# Plot identifier: Plot\n",
    "# Index of Tree: _index\n",
    "column_names = [\"name\",  \"lat\", \"lon\", \"diameter\", 'height', 'year', 'plot_id', 'tree_id']\n",
    "ground_files.rename(columns={'Variedad_1' : \"name\",  '_Gps_1_lat' : \"lat\", '_Gps_1_lon' : \"lon\",  \n",
    "                   'Ave_Diamet': \"diameter\", 'Altura_del':'height', 'Plant_Yr':'year', 'Plot':'plot_id', '_index': 'tree_id'},inplace=True)\n",
    "ground_files = ground_files[column_names]\n",
    "ground_files['is_musacea'] = ground_files.name.apply(lambda x: 0 if x == 'Musacea' else 1)"
   ]
  },
  {
   "cell_type": "code",
   "execution_count": null,
   "metadata": {},
   "outputs": [],
   "source": [
    "list_sites = ['Carlos Vera Arteaga RGB', 'Carlos Vera Guevara RGB', 'Leonor Aspiazu RGB', \n",
    "             'Manuel Macias RGB', 'Nestor Macias RGB', 'Flora Pluas RGB']\n",
    "\n",
    "ortho_data = pd.read_csv('Ecuador/features/ortho_data.csv', index_col = None)\n",
    "    \n",
    "for site_name in list_sites:\n",
    "    site = ortho_data[ortho_data.name == site_name]\n",
    "\n",
    "    d = 0.001\n",
    "    max_lat = site['lat_max'].values[0]\n",
    "    min_lat = site['lat_min'].values[0]\n",
    "    max_lon = site['lon_max'].values[0]\n",
    "    min_lon = site['lon_min'].values[0]\n",
    "    \n",
    "    ground_files_site = ground_files.loc[(min_lat-d < ground_files.lat) \n",
    "                                & (ground_files.lat < max_lat+d) \n",
    "                                & (min_lon-d < ground_files.lon)\n",
    "                               & (ground_files.lon < max_lon+d)]\n",
    "    \n",
    "    ground_files_site = ground_files_site.reset_index(drop = True)\n",
    "    ground_files_site['site'] = site_name\n",
    "    pos_xy = ground_files_site.apply(lambda x: convert_lonlat_to_xy(site_name, x.lon, x.lat, ortho_data), axis = 1).to_numpy()\n",
    "    ground_files_site[['X', 'Y']] = pd.DataFrame(pos_xy.tolist())\n",
    "    \n",
    "    ground_files_site.to_csv('Ecuador/features/ground_data_{}.csv'.format(site_name), index = False)"
   ]
  },
  {
   "cell_type": "code",
   "execution_count": null,
   "metadata": {},
   "outputs": [],
   "source": [
    "# Merge annotations files of each site in a unique annotations file\n",
    "ground_data = pd.DataFrame()\n",
    "\n",
    "for file in os.listdir(\"Ecuador/features\"):\n",
    "    if file.startswith('ground'):\n",
    "        file_path = 'Ecuador/features/%s'%file\n",
    "        df = pd.read_csv(file_path)\n",
    "        ground_data = pd.concat([ground_data, df])\n",
    "ground_data = ground_data.reset_index(drop = True)\n",
    "ground_data.to_csv('Ecuador/features/final_ground_data.csv')"
   ]
  },
  {
   "cell_type": "markdown",
   "metadata": {},
   "source": [
    "#### Visualize all sites "
   ]
  },
  {
   "cell_type": "code",
   "execution_count": null,
   "metadata": {},
   "outputs": [],
   "source": [
    "final_annotations = pd.read_csv('Ecuador/annotations/final_annotations.csv', index_col = 0)\n",
    "final_ground_data = pd.read_csv('Ecuador/features/final_ground_data.csv', index_col = 0)"
   ]
  },
  {
   "cell_type": "code",
   "execution_count": null,
   "metadata": {},
   "outputs": [],
   "source": [
    "X_drone = final_annotations[['lat', 'lon']].to_numpy()\n",
    "X_ground = final_ground_data[['lat', 'lon']].to_numpy()"
   ]
  },
  {
   "cell_type": "code",
   "execution_count": null,
   "metadata": {},
   "outputs": [],
   "source": [
    "max_lat = final_annotations.lat.max()\n",
    "min_lat = final_annotations.lat.min()\n",
    "\n",
    "max_lon = final_annotations.lon.max()\n",
    "min_lon = final_annotations.lon.min()\n",
    "\n",
    "ECUADOR_COORDINATES = [(min_lat + max_lat)/2, (min_lon + max_lon)/2]"
   ]
  },
  {
   "cell_type": "code",
   "execution_count": null,
   "metadata": {},
   "outputs": [],
   "source": [
    "plot_initial(ECUADOR_COORDINATES, X_drone, X_ground, final_ground_data, satellite = True)"
   ]
  },
  {
   "cell_type": "markdown",
   "metadata": {},
   "source": [
    "### 2. Mapping "
   ]
  },
  {
   "cell_type": "code",
   "execution_count": null,
   "metadata": {},
   "outputs": [],
   "source": [
    "ortho_data = pd.read_csv('Ecuador/features/ortho_data.csv', index_col = None)"
   ]
  },
  {
   "cell_type": "code",
   "execution_count": null,
   "metadata": {},
   "outputs": [],
   "source": [
    "list_sites = ['Carlos Vera Arteaga RGB', 'Carlos Vera Guevara RGB', 'Leonor Aspiazu RGB', \n",
    "             'Manuel Macias RGB', 'Nestor Macias RGB', 'Flora Pluas RGB']"
   ]
  },
  {
   "cell_type": "code",
   "execution_count": null,
   "metadata": {
    "scrolled": false
   },
   "outputs": [],
   "source": [
    "# For visualization of the mapping, choose a site and a tile\n",
    "site_name = input('Select a site: ') #Carlos Vera Guevara RGB\n",
    "tile = input('Select a tile for visualisation: ') #Carlos Vera Guevara RGB_5_3800_3800_7800_7800.png"
   ]
  },
  {
   "cell_type": "code",
   "execution_count": null,
   "metadata": {
    "scrolled": false
   },
   "outputs": [],
   "source": [
    "methods = ['Nearest Neighbours', 'Optimal Transport Non-Greedy', \n",
    "           'Optimal Transport Greedy', 'Optimal Transport with CNN Non-Greedy',\n",
    "          'Gromov-Wasserstein']\n",
    "\n",
    "for i in range(len(methods)):\n",
    "\n",
    "    if methods[i]=='Nearest Neighbours':\n",
    "        final = get_matching_baseline_Ecuador(list_sites)\n",
    "    if methods[i]=='Optimal Transport Non-Greedy':\n",
    "        G = get_map_Ecuador(list_sites, method = 'OT')\n",
    "        final = get_matching_Ecuador(list_sites, G, greedy = False, drone_to_ground = True)\n",
    "    if methods[i]=='Optimal Transport Greedy':\n",
    "        G = get_map_Ecuador(list_sites, method = 'OT')\n",
    "        final = get_matching_Ecuador(list_sites, G, greedy = True)\n",
    "    if methods[i]=='Optimal Transport with CNN Non-Greedy':\n",
    "        G = get_map_Ecuador(list_sites, method = 'OT + CNN', mu = 1)\n",
    "        final = get_matching_Ecuador(list_sites, G, greedy = True)\n",
    "    if methods[i]=='Gromov-Wasserstein':\n",
    "        G = get_map_Ecuador(list_sites, method = 'GW')\n",
    "        final = get_matching_Ecuador(list_sites, G, greedy = True)\n",
    "\n",
    "    final.to_csv('Ecuador/results/{}_final_matching.csv'.format(methods[i]))"
   ]
  },
  {
   "cell_type": "code",
   "execution_count": null,
   "metadata": {},
   "outputs": [],
   "source": [
    "# Visualisation of Nearest Neighbours mapping (example)\n",
    "method = 'Nearest Neighbours'\n",
    "final = pd.read_csv('Ecuador/results/{}_final_matching.csv'.format(method))\n",
    "\n",
    "params = {'Params': 'Position', 'Type': 'Baseline', 'Musacea Accuracy': acc_musacea(final), 'Merge': method}\n",
    "annotations_files = pd.read_csv('Ecuador/annotations/{}_annotations_processed_cnn.csv'.format(site_name))\n",
    "visualize_tile_prediction(site_name, tile, final, annotations_files, ortho_data, params)\n",
    "\n",
    "# Density plot\n",
    "d = density_plots('Method: {}'.format(method), final)\n",
    "d.savefig('Ecuador/results/{}_density.png'.format(method), bbox_inches='tight', pad_inches=0)"
   ]
  },
  {
   "cell_type": "markdown",
   "metadata": {},
   "source": [
    "#### Visualisation for WWF"
   ]
  },
  {
   "cell_type": "code",
   "execution_count": null,
   "metadata": {},
   "outputs": [],
   "source": [
    "import matplotlib.image as mpimg\n",
    "import seaborn as sns\n",
    "from mpl_toolkits.axes_grid1 import make_axes_locatable"
   ]
  },
  {
   "cell_type": "code",
   "execution_count": null,
   "metadata": {},
   "outputs": [],
   "source": [
    "final = pd.read_csv('Ecuador/results/Optimal Transport with CNN Greedy_final_matching.csv', index_col = 0)"
   ]
  },
  {
   "cell_type": "code",
   "execution_count": null,
   "metadata": {},
   "outputs": [],
   "source": [
    "unique = final[\"name\"].unique()\n",
    "palette = dict(zip(unique, sns.color_palette(n_colors=len(unique))))"
   ]
  },
  {
   "cell_type": "code",
   "execution_count": null,
   "metadata": {},
   "outputs": [],
   "source": [
    "final.columns"
   ]
  },
  {
   "cell_type": "markdown",
   "metadata": {},
   "source": [
    "#### Plot ground observations (before OT mapping) VS final tree dataset (after OT mapping)"
   ]
  },
  {
   "cell_type": "code",
   "execution_count": null,
   "metadata": {},
   "outputs": [],
   "source": [
    "# Before OT mapping - Ground measurements\n",
    "\n",
    "final_ground_data = pd.read_csv('Ecuador/features/final_ground_data.csv', index_col = 0)\n",
    "df_ground_site = final_ground_data[final_ground_data.site == site_name]\n",
    "    \n",
    "img_path = 'Ecuador/wwf_ecuador/RGB Orthomosaics/{}.tif'.format(site_name)\n",
    "\n",
    "fig, ax = plt.subplots(1, figsize = (15,15))\n",
    "im = mpimg.imread(img_path)\n",
    "\n",
    "ax = sns.scatterplot(x=\"X\", y=\"Y\", data=df_ground_site, s = 50, hue=\"name\", edgecolor='black',linewidth=1, palette = palette)\n",
    "plt.axis('off')\n",
    "ax.imshow(im)\n",
    "plt.legend(loc=\"upper right\", borderaxespad=0., fontsize=15, markerscale=1.5)\n",
    "#plt.title('Species Prediction with Optimal Transport', fontsize=16, y = 1.05)\n",
    "plt.savefig('Ecuador/results/fig/ground_measurements/species_observations_{}.png'.format(site_name))\n",
    "plt.show()\n",
    "\n",
    "\n",
    "df_ground_site['diameter'] = df_ground_site['diameter'].replace(0.0, np.nan)\n",
    "df_ground_site['diameter'].values[df_ground_site['diameter'].values > 50] = np.nan\n",
    "\n",
    "fig, ax = plt.subplots(1, figsize = (15,15))\n",
    "im = mpimg.imread(img_path)\n",
    "ax.imshow(im)\n",
    "plt.axis('off')\n",
    "#ax.scatter(x=df_site['X_d'],y=df_site['Y_d'],c='black',s = 10)\n",
    "img = ax.scatter(x=df_ground_site['X'],y=df_ground_site['Y'],c=df_ground_site['diameter'],cmap='copper', s = 60)\n",
    "#plt.title('Diameter Prediction with Optimal Transport', fontsize=16, y = 1.05)\n",
    "divider = make_axes_locatable(ax)\n",
    "cax = divider.append_axes(\"right\", size=\"5%\", pad=0.05)\n",
    "plt.colorbar(img, cax=cax)\n",
    "plt.savefig('Ecuador/results/fig/ground_measurements/diameter_observations_{}.png'.format(site_name))\n",
    "plt.show()"
   ]
  },
  {
   "cell_type": "code",
   "execution_count": null,
   "metadata": {},
   "outputs": [],
   "source": [
    "site_name = 'Manuel Macias RGB'\n",
    "\n",
    "\n",
    "# After OT mapping\n",
    "df_site = final[final.img_name == site_name]\n",
    "    \n",
    "img_path = 'Ecuador/wwf_ecuador/RGB Orthomosaics/{}.tif'.format(site_name)\n",
    "\n",
    "fig, ax = plt.subplots(1, figsize = (15,15))\n",
    "im = mpimg.imread(img_path)\n",
    "\n",
    "ax = sns.scatterplot(x=\"X_d\", y=\"Y_d\", data=df_site, s = 50, hue=\"name\", edgecolor='black',linewidth=1, palette = palette)\n",
    "plt.axis('off')\n",
    "ax.imshow(im)\n",
    "plt.legend(loc=\"upper right\", borderaxespad=0., fontsize=15, markerscale=1.5)\n",
    "#plt.title('Species Prediction with Optimal Transport', fontsize=16, y = 1.05)\n",
    "plt.savefig('Ecuador/results/fig/OT_CNN-filtering_matching/OT_CNN-filtering_species_mapping_{}.png'.format(site_name))\n",
    "plt.show()\n",
    "\n",
    "\n",
    "df_site['diameter'] = df_site['diameter'].replace(0.0, np.nan)\n",
    "df_site['diameter'].values[df_site['diameter'].values > 50] = np.nan\n",
    "\n",
    "fig, ax = plt.subplots(1, figsize = (15,15))\n",
    "im = mpimg.imread(img_path)\n",
    "ax.imshow(im)\n",
    "plt.axis('off')\n",
    "#ax.scatter(x=df_site['X_d'],y=df_site['Y_d'],c='black',s = 10)\n",
    "img = ax.scatter(x=df_site['X_d'],y=df_site['Y_d'],c=df_site['diameter'],cmap='copper', s = 60)\n",
    "#plt.title('Diameter Prediction with Optimal Transport', fontsize=16, y = 1.05)\n",
    "divider = make_axes_locatable(ax)\n",
    "cax = divider.append_axes(\"right\", size=\"5%\", pad=0.05)\n",
    "plt.colorbar(img, cax=cax)\n",
    "plt.savefig('Ecuador/results/fig/OT_CNN-filtering_matching/OT_CNN-filtering_diameter_mapping_{}.png'.format(site_name))\n",
    "plt.show()"
   ]
  },
  {
   "cell_type": "markdown",
   "metadata": {},
   "source": [
    "#### Plot final species and diameter OT mapping for all sites"
   ]
  },
  {
   "cell_type": "code",
   "execution_count": null,
   "metadata": {},
   "outputs": [],
   "source": [
    "list_sites = ['Carlos Vera Arteaga RGB', 'Carlos Vera Guevara RGB', 'Leonor Aspiazu RGB', \n",
    "             'Manuel Macias RGB', 'Nestor Macias RGB', 'Flora Pluas RGB']"
   ]
  },
  {
   "cell_type": "code",
   "execution_count": null,
   "metadata": {},
   "outputs": [],
   "source": [
    "for site_name in list_sites:\n",
    "    df_site = final[final.img_name == site_name]\n",
    "    \n",
    "    img_path = 'Ecuador/wwf_ecuador/RGB Orthomosaics/{}.tif'.format(site_name)\n",
    "\n",
    "    fig, ax = plt.subplots(1, figsize = (15,15))\n",
    "    im = mpimg.imread(img_path)\n",
    "\n",
    "    ax = sns.scatterplot(x=\"X_d\", y=\"Y_d\", data=df_site, s = 50, hue=\"name\", edgecolor='black',linewidth=1, palette = palette)\n",
    "    ax.imshow(im)\n",
    "    #plt.title('Species Prediction with Optimal Transport', fontsize=16, y = 1.05)\n",
    "    plt.savefig('Ecuador/results/fig/OT_CNN-filtering_matching/OT_CNN-filtering_species_mapping_{}.png'.format(site_name))\n",
    "    #plt.show()\n",
    "\n",
    "\n",
    "    df_site['diameter'] = df_site['diameter'].replace(0.0, np.nan)\n",
    "    df_site['diameter'].values[df_site['diameter'].values > 50] = np.nan\n",
    "    \n",
    "    fig, ax = plt.subplots(1, figsize = (15,15))\n",
    "    im = mpimg.imread(img_path)\n",
    "    ax.imshow(im)\n",
    "    #ax.scatter(x=df_site['X_d'],y=df_site['Y_d'],c='black',s = 10)\n",
    "    img = ax.scatter(x=df_site['X_d'],y=df_site['Y_d'],c=df_site['diameter'],cmap='copper', s = 60)\n",
    "    #plt.title('Diameter Prediction with Optimal Transport', fontsize=16, y = 1.05)\n",
    "    divider = make_axes_locatable(ax)\n",
    "    cax = divider.append_axes(\"right\", size=\"5%\", pad=0.05)\n",
    "    plt.colorbar(img, cax=cax)\n",
    "    plt.savefig('Ecuador/results/fig/OT_CNN-filtering_matching/OT_CNN-filtering_diameter_mapping_{}.png'.format(site_name))\n",
    "    plt.show()"
   ]
  },
  {
   "cell_type": "code",
   "execution_count": null,
   "metadata": {},
   "outputs": [],
   "source": [
    "heights = final['height'].unique()\n",
    "for h in heights[1:]:\n",
    "    df = final[final['height'] == h]\n",
    "    print(df.name.to_numpy())"
   ]
  },
  {
   "cell_type": "code",
   "execution_count": null,
   "metadata": {},
   "outputs": [],
   "source": [
    "ground_data = pd.read_csv('Ecuador/features/initial_ground_data.csv')\n",
    "diameters = ground_data['diameter'].unique()\n",
    "for d in diameters[1:]:\n",
    "    df = ground_data[ground_data['diameter'] == d]\n",
    "    print(df.name.to_numpy())"
   ]
  },
  {
   "cell_type": "markdown",
   "metadata": {},
   "source": [
    "## 3. Species Prediction"
   ]
  },
  {
   "cell_type": "markdown",
   "metadata": {},
   "source": [
    "#### Effect of noise in ground data for Species classification accuracy - Ecuador real dataset"
   ]
  },
  {
   "cell_type": "code",
   "execution_count": null,
   "metadata": {},
   "outputs": [],
   "source": [
    "import seaborn as sns"
   ]
  },
  {
   "cell_type": "code",
   "execution_count": null,
   "metadata": {},
   "outputs": [],
   "source": [
    "final_res = pd.read_csv('Ecuador/results/classification_results_basic_small.csv', index_col = 0)\n",
    "final_res = final_res.replace({\"ot_greedy\": \"ot_GPS\", \"hand_ot_greedy\": \"hand_ot_GPS\", \"ot_cnn\": \"ot_GPS_and_species\", \"hand_ot_cnn\": \"hand_ot_GPS_and_species\"})"
   ]
  },
  {
   "cell_type": "code",
   "execution_count": null,
   "metadata": {},
   "outputs": [],
   "source": [
    "final_res.groupby('method').mean()\n",
    "final_res.groupby('method').var()"
   ]
  },
  {
   "cell_type": "code",
   "execution_count": null,
   "metadata": {
    "scrolled": true
   },
   "outputs": [],
   "source": [
    "fig, ax = plt.subplots(figsize=[15, 7])\n",
    "ax.set_ylabel('accuracy', size = 12)\n",
    "ax.set_ylim(0,1)\n",
    "ax.set_title('Classification Accuracy for the Ecuador naturally noisy Dataset', size = 16)\n",
    "\n",
    "methods=[\"hand\", \"hand_nn\", \"nn\", 'hand_gmn', 'gmn', 'hand_ot_GPS', 'ot_GPS', 'hand_ot_GPS_and_species', 'ot_GPS_and_species', 'hand_gw', 'gw']\n",
    "\n",
    "sns.boxplot(x=\"method\", y=\"accuracy\", data=final_res, ax=ax, order = methods)\n",
    "plt.setp(ax.get_xticklabels(), rotation=70, size=12)\n",
    "ax.set(xlabel=None)"
   ]
  },
  {
   "cell_type": "markdown",
   "metadata": {},
   "source": [
    "#### Binary species classification"
   ]
  },
  {
   "cell_type": "code",
   "execution_count": null,
   "metadata": {},
   "outputs": [],
   "source": [
    "ground_data = pd.read_csv('Ecuador/features/initial_ground_data.csv')\n",
    "\n",
    "list_labels = ground_data.name.unique()\n",
    "len(list_labels)\n",
    "np.save('Ecuador/cnn/list_species.npy', list_labels)"
   ]
  },
  {
   "cell_type": "code",
   "execution_count": null,
   "metadata": {},
   "outputs": [],
   "source": [
    "final = pd.read_csv('Ecuador/results/Optimal Transport with CNN Greedy_final_matching.csv', index_col = 0)"
   ]
  },
  {
   "cell_type": "code",
   "execution_count": null,
   "metadata": {},
   "outputs": [],
   "source": [
    "final.columns"
   ]
  },
  {
   "cell_type": "code",
   "execution_count": null,
   "metadata": {},
   "outputs": [],
   "source": [
    "def get_patches(df):\n",
    "    # read image, based on command line filename argument;\n",
    "    # read the image as grayscale from the outset\n",
    "    patches = []\n",
    "    new_df = df.copy()\n",
    "\n",
    "    for index, row in df.iterrows():\n",
    "        path = 'Ecuador/images/{}/{}'.format(row.img_name, row.img_path)\n",
    "        src = rasterio.open(path)\n",
    "        raster = src.read()\n",
    "        image = reshape_as_image(raster)\n",
    "        tree = image[int(row.ymin):int(row.ymax), int(row.xmin):int(row.xmax)].astype(int)\n",
    "        if tree.shape[0] > 0 and tree.shape[1] > 0:\n",
    "            img = cv2.resize(np.array(tree, dtype = np.float32), (224, 224))\n",
    "            patches.append(img)\n",
    "        else:\n",
    "            new_df = new_df.drop(index = index)\n",
    "        plt.imshow(tree)\n",
    "        plt.show()\n",
    "    \n",
    "    patches = np.array(patches, dtype = np.float32)\n",
    "    new_df = new_df.reset_index(drop = True)\n",
    "        \n",
    "    return(patches, new_df)\n",
    "\n",
    "\n",
    "def get_patches_and_labels(df):\n",
    "    # read image, based on command line filename argument;\n",
    "    # read the image as grayscale from the outset\n",
    "    patches = []\n",
    "    labels = []\n",
    "    new_df = df.copy()\n",
    "\n",
    "    for index, row in df.iterrows():\n",
    "        path = 'Ecuador/images/{}/{}'.format(row.img_name, row.img_path)\n",
    "        src = rasterio.open(path)\n",
    "        raster = src.read()\n",
    "        image = reshape_as_image(raster)\n",
    "        tree = image[int(row.ymin):int(row.ymax), int(row.xmin):int(row.xmax)].astype(int)\n",
    "        if tree.shape[0] > 0 and tree.shape[1] > 0:\n",
    "            img = cv2.resize(np.array(tree, dtype = np.float32), (224, 224))\n",
    "            patches.append(img)\n",
    "            labels.append(row.name)\n",
    "        else:\n",
    "            new_df = new_df.drop(index = index)\n",
    "        plt.imshow(tree)\n",
    "        plt.show()\n",
    "    \n",
    "    patches = np.array(patches, dtype = np.float32)\n",
    "    labels = np.array(labels)\n",
    "    new_df = new_df.reset_index(drop = True)\n",
    "        \n",
    "    return(patches, new_df)\n"
   ]
  },
  {
   "cell_type": "code",
   "execution_count": null,
   "metadata": {
    "scrolled": true
   },
   "outputs": [],
   "source": [
    "site_name = 'Flora Pluas RGB'\n",
    "\n",
    "annot = pd.read_csv('Ecuador/annotations/{}_annotations_processed_cnn.csv'.format(site_name))\n",
    "annot.head() "
   ]
  },
  {
   "cell_type": "code",
   "execution_count": null,
   "metadata": {},
   "outputs": [],
   "source": [
    "patches, annot = get_patches(annot)\n",
    "#np.save('Ecuador/cnn/test/patches_{}.npy'.format(site_name), patches)"
   ]
  },
  {
   "cell_type": "code",
   "execution_count": null,
   "metadata": {},
   "outputs": [],
   "source": [
    "labels = np.load('Ecuador/cnn/test/labels_{}.npy'.format(site_name))\n",
    "annot['label'] = labels"
   ]
  },
  {
   "cell_type": "code",
   "execution_count": null,
   "metadata": {},
   "outputs": [],
   "source": [
    "annot.to_csv('Ecuador/cnn/test/predictions_{}.npy'.format(site_name))\n",
    "annot.columns"
   ]
  },
  {
   "cell_type": "code",
   "execution_count": null,
   "metadata": {
    "scrolled": true
   },
   "outputs": [],
   "source": [
    "site_name = 'Flora Pluas RGB'\n",
    "annot = np.load('Ecuador/cnn/test/predictions_{}.npy'.format(site_name))\n",
    "img_path = 'Ecuador/wwf_ecuador/RGB Orthomosaics/{}.tif'.format(site_name)\n",
    "\n",
    "fig, ax = plt.subplots(1, figsize = (15,15))\n",
    "im = mpimg.imread(img_path)\n",
    "\n",
    "ax = sns.scatterplot(x=\"X\", y=\"Y\", data=annot, s = 50, hue=\"label\", edgecolor='black',linewidth=1)\n",
    "plt.axis('off')\n",
    "ax.imshow(im)\n",
    "plt.legend(loc=\"lower right\", borderaxespad=0., fontsize=15, markerscale=1.5)\n",
    "#plt.title('Species Prediction (Binary Classification)', fontsize=16, y = 1.05)\n",
    "#plt.savefig('Ecuador/results/fig/Binary_species_prediction_{}.png'.format(site_name))\n",
    "#plt.show()"
   ]
  },
  {
   "cell_type": "code",
   "execution_count": null,
   "metadata": {},
   "outputs": [],
   "source": [
    "for site_name in list_sites:\n",
    "    annot = pd.read_csv('Ecuador/annotations/{}_annotations_processed_cnn.csv'.format(site_name), index_col = 0)\n",
    "    \n",
    "    img_path = 'Ecuador/wwf_ecuador/RGB Orthomosaics/{}.tif'.format(site_name)\n",
    "\n",
    "    fig, ax = plt.subplots(1, figsize = (15,15))\n",
    "    im = mpimg.imread(img_path)\n",
    "\n",
    "    ax = sns.scatterplot(x=\"X_d\", y=\"Y_d\", data=df_site, s = 50, hue=\"name\", edgecolor='black',linewidth=1, palette = palette)\n",
    "    ax.imshow(im)\n",
    "    plt.title('Species Prediction with Optimal Transport', fontsize=16, y = 1.05)\n",
    "    plt.savefig('Ecuador/results/fig/OT_CNN-filtering_matching/OT_CNN-filtering_species_prediction_{}.png'.format(site_name))\n",
    "    #plt.show()\n",
    "\n",
    "\n",
    "    df_site['diameter'] = df_site['diameter'].replace(0.0, np.nan)\n",
    "    df_site['diameter'].values[df_site['diameter'].values > 50] = np.nan\n",
    "    \n",
    "    fig, ax = plt.subplots(1, figsize = (15,15))\n",
    "    im = mpimg.imread(img_path)\n",
    "    ax.imshow(im)\n",
    "    #ax.scatter(x=df_site['X_d'],y=df_site['Y_d'],c='black',s = 10)\n",
    "    img = ax.scatter(x=df_site['X_d'],y=df_site['Y_d'],c=df_site['diameter'],cmap='copper', s = 60)\n",
    "    plt.title('Diameter Prediction with Optimal Transport', fontsize=16, y = 1.05)\n",
    "    divider = make_axes_locatable(ax)\n",
    "    cax = divider.append_axes(\"right\", size=\"5%\", pad=0.05)\n",
    "    plt.colorbar(img, cax=cax)\n",
    "    plt.savefig('Ecuador/results/fig/OT_CNN-filtering_matching/OT_CNN-filtering_diameter_prediction_{}.png'.format(site_name))\n",
    "    plt.show()"
   ]
  },
  {
   "cell_type": "markdown",
   "metadata": {},
   "source": [
    "## NEON Dataset"
   ]
  },
  {
   "cell_type": "markdown",
   "metadata": {},
   "source": [
    "### 1. Data Preparation"
   ]
  },
  {
   "cell_type": "code",
   "execution_count": null,
   "metadata": {
    "scrolled": true
   },
   "outputs": [],
   "source": [
    "df_drone = pd.read_csv('NEON/annotations/final_annotations.csv', index_col = 0)\n",
    "df_ground = pd.read_csv('NEON/features/final_ground_data.csv', index_col = 0)"
   ]
  },
  {
   "cell_type": "code",
   "execution_count": null,
   "metadata": {},
   "outputs": [],
   "source": [
    "list_labels = np.unique(df_ground.scientificName.to_numpy())\n",
    "len(list_labels)\n",
    "np.save('NEON/data/list_species.npy', list_labels)"
   ]
  },
  {
   "cell_type": "code",
   "execution_count": null,
   "metadata": {},
   "outputs": [],
   "source": [
    "df = pd.read_csv('NEON/data/field_data.csv', index_col = 0)\n",
    "list_labels = np.unique(df.scientificName.to_numpy())\n",
    "len(list_labels)\n",
    "list_labels\n",
    "#np.save('NEON/data/list_species.npy', list_labels)"
   ]
  },
  {
   "cell_type": "code",
   "execution_count": null,
   "metadata": {
    "scrolled": true
   },
   "outputs": [],
   "source": [
    "list_sites1 = np.unique(df_drone['site'].to_numpy())\n",
    "print(list_sites1)"
   ]
  },
  {
   "cell_type": "code",
   "execution_count": null,
   "metadata": {},
   "outputs": [],
   "source": [
    "list_sites2 = np.unique(df_ground['site'].to_numpy())\n",
    "print(list_sites2)"
   ]
  },
  {
   "cell_type": "code",
   "execution_count": null,
   "metadata": {
    "scrolled": true
   },
   "outputs": [],
   "source": [
    "# Visualise drone and ground data for the whole site TEAK\n",
    "\n",
    "df1 = df_drone[df_drone['site']=='TEAK']\n",
    "df2 = df_ground[df_ground['site']=='TEAK']\n",
    "\n",
    "# Plot all points\n",
    "X_drone = df1[['X', 'Y']].to_numpy()\n",
    "print(len(X_drone))\n",
    "X_ground = df2[['X', 'Y']].to_numpy()\n",
    "print(len(X_ground))\n",
    "\n",
    "plt.figure(figsize=(15,15))\n",
    "\n",
    "for i in range(len(X_drone)):\n",
    "    plt.scatter(x=X_drone[i][0], y=X_drone[i][1], c='r', s=40)\n",
    "for i in range(len(X_ground)):\n",
    "    plt.scatter(x=X_ground[i][0], y=X_ground[i][1], c='b', s=40)\n",
    "plt.show()"
   ]
  },
  {
   "cell_type": "code",
   "execution_count": null,
   "metadata": {
    "scrolled": true
   },
   "outputs": [],
   "source": [
    "# Visualise drone and ground data for the small tile ABBY_063\n",
    "\n",
    "df1 = df_drone[df_drone['img_path']=='ABBY_063.tif']\n",
    "df2 = df_ground[df_ground['img_path']=='ABBY_063.tif']\n",
    "\n",
    "src = rasterio.open('NEON/images/ABBY_063.tif')\n",
    "raster = src.read()\n",
    "image = reshape_as_image(raster)\n",
    "\n",
    "# Plot all points\n",
    "X_drone = df1[['x', 'y']].to_numpy()\n",
    "print(len(X_drone))\n",
    "X_ground = df2[['x', 'y']].to_numpy()\n",
    "print(len(X_ground))\n",
    "\n",
    "plt.figure(figsize=(15,15))\n",
    "plt.imshow(image.astype(int))\n",
    "for i in range(len(X_drone)):\n",
    "    plt.scatter(x=X_drone[i][0], y=X_drone[i][1], c='r', s=40)\n",
    "for i in range(len(X_ground)):\n",
    "    plt.scatter(x=X_ground[i][0], y=X_ground[i][1], c='b', s=40)\n",
    "plt.show()"
   ]
  },
  {
   "cell_type": "markdown",
   "metadata": {},
   "source": [
    "#### Build True Matching from Ground Data"
   ]
  },
  {
   "cell_type": "code",
   "execution_count": null,
   "metadata": {},
   "outputs": [],
   "source": [
    "df_ground = pd.read_csv('NEON/features/final_ground_data.csv', index_col = 0)"
   ]
  },
  {
   "cell_type": "code",
   "execution_count": null,
   "metadata": {},
   "outputs": [],
   "source": [
    "df_ground.columns"
   ]
  },
  {
   "cell_type": "code",
   "execution_count": null,
   "metadata": {
    "scrolled": true
   },
   "outputs": [],
   "source": [
    "def convert_to_box(x, d):\n",
    "    x['xmin'] = x['x']-d\n",
    "    x['ymin'] = x['y']-d\n",
    "    x['xmax'] = x['x']+d\n",
    "    x['ymax'] = x['y']+d\n",
    "    return(x)\n",
    "\n",
    "df_ground = df_ground.apply(lambda l: convert_to_box(l, 40), axis = 1)\n",
    "df_ground"
   ]
  },
  {
   "cell_type": "code",
   "execution_count": null,
   "metadata": {
    "scrolled": true
   },
   "outputs": [],
   "source": [
    "for index, row in df_ground.iterrows():\n",
    "    src = rasterio.open(os.path.join('NEON/images', row.img_path))\n",
    "    raster = src.read()\n",
    "    image = reshape_as_image(raster)\n",
    "    tree = image[int(row.ymin):int(row.ymax), int(row.xmin):int(row.xmax)].astype(int)\n",
    "    try:\n",
    "        print(row.scientificName)\n",
    "        plt.imshow(np.array(tree))\n",
    "        plt.show()\n",
    "    except ValueError:  #raised if `y` is empty.\n",
    "        pass\n"
   ]
  },
  {
   "cell_type": "code",
   "execution_count": null,
   "metadata": {},
   "outputs": [],
   "source": [
    "df_ground.to_csv('NEON/data/true_matching.csv')"
   ]
  },
  {
   "cell_type": "markdown",
   "metadata": {},
   "source": [
    "#### Build Species list"
   ]
  },
  {
   "cell_type": "code",
   "execution_count": null,
   "metadata": {},
   "outputs": [],
   "source": [
    "df_true = pd.read_csv('NEON/data/true_matching.csv', index_col = 0)"
   ]
  },
  {
   "cell_type": "code",
   "execution_count": null,
   "metadata": {},
   "outputs": [],
   "source": [
    "list_species = np.unique(df_true['scientificName'].to_numpy())\n",
    "list_species_small = np.unique([x.split(' ')[0] for x in list_species])\n",
    "np.save('NEON/data/list_species_reduced', list_species_small)"
   ]
  },
  {
   "cell_type": "markdown",
   "metadata": {},
   "source": [
    "### 2. Mapping"
   ]
  },
  {
   "cell_type": "code",
   "execution_count": null,
   "metadata": {
    "scrolled": true
   },
   "outputs": [],
   "source": [
    "df_true = pd.read_csv('NEON/data/true_matching.csv', index_col = 0)\n",
    "df_true.columns"
   ]
  },
  {
   "cell_type": "code",
   "execution_count": null,
   "metadata": {
    "scrolled": true
   },
   "outputs": [],
   "source": [
    "methods = ['NN', 'OT non greedy', 'OT greedy', 'GW']\n",
    "sigmas = np.array([0, 0.5, 1, 1.5, 2, 2.5, 3, 3.5, 4])\n",
    "\n",
    "def get_final_matching_NEON(df_true, methods, sigmas):\n",
    "    \n",
    "    list_sites = np.unique(df_true['site'].to_numpy())\n",
    "    df_drone = df_true[['x', 'y', 'site', 'xmin', 'ymin', 'xmax', 'ymax', 'X', 'Y',\n",
    "       'itcLongitude', 'itcLatitude', 'img_path', 'X_left', 'Y_top']]\n",
    "    df_ground = df_true[['X', 'Y', 'site', 'img_path', 'scientificName', 'stemDiameter',\n",
    "           'measurementHeight', 'height']]\n",
    "    \n",
    "    n = len(df_true)\n",
    "    for i in range(len(methods)):\n",
    "        \n",
    "        for k in range(len(sigmas)):\n",
    "            noise = np.random.normal(0, sigmas[k], (n, 2))\n",
    "            \n",
    "            df_g = df_ground.copy()\n",
    "            df_d = df_drone.copy()\n",
    "            X_drone = df_d[['X', 'Y']]\n",
    "            X_ground = X_drone + noise\n",
    "            df_g[['X', 'Y']] = X_ground\n",
    "            print(df_ground[['X', 'Y']].to_numpy()[0])\n",
    "            print(df_g[['X', 'Y']].to_numpy()[0])\n",
    "            \n",
    "            if methods[i]=='NN':\n",
    "                final = get_matching_baseline_NEON(list_sites, df_d, df_g)\n",
    "                final.to_csv('NEON/results/final_{}_sigma_{}.csv'.format(methods[i], sigmas[k]))\n",
    "                \n",
    "            if methods[i]=='OT non greedy':\n",
    "                G = get_map_NEON(list_sites, df_d, df_g, method = 'OT')\n",
    "                final = get_matching_NEON(list_sites, df_d, df_g, G, greedy = False)\n",
    "                final.to_csv('NEON/results/final_{}_sigma_{}.csv'.format(methods[i], sigmas[k]))\n",
    "                \n",
    "            if methods[i]=='OT greedy':\n",
    "                G = get_map_NEON(list_sites, df_d, df_g, method = 'OT')\n",
    "                final = get_matching_NEON(list_sites, df_d, df_g, G, greedy = True)\n",
    "                final.to_csv('NEON/results/final_{}_sigma_{}.csv'.format(methods[i], sigmas[k]))\n",
    "                \n",
    "            if methods[i]=='GW':\n",
    "                G = get_map_NEON(list_sites, df_d, df_g, method = 'GW')\n",
    "                final = get_matching_NEON(list_sites, df_d, df_g, G, greedy = True)\n",
    "                final.to_csv('NEON/results/final_{}_sigma_{}.csv'.format(methods[i], sigmas[k]))\n",
    "                \n",
    "    return"
   ]
  },
  {
   "cell_type": "code",
   "execution_count": null,
   "metadata": {},
   "outputs": [],
   "source": [
    "get_final_matching_NEON(df_true, methods, sigmas)"
   ]
  },
  {
   "cell_type": "code",
   "execution_count": null,
   "metadata": {},
   "outputs": [],
   "source": [
    "df = pd.read_csv('NEON/results/final_OT non greedy_sigma_1.5.csv', index_col = 0)\n",
    "df.shape"
   ]
  },
  {
   "cell_type": "markdown",
   "metadata": {},
   "source": [
    "### 3. Species Classifier"
   ]
  },
  {
   "cell_type": "markdown",
   "metadata": {},
   "source": [
    "#### Effect of noise in ground data for Species classification accuracy - NEON synthetic dataset"
   ]
  },
  {
   "cell_type": "code",
   "execution_count": null,
   "metadata": {},
   "outputs": [],
   "source": [
    "final_res = pd.read_csv('NEON/results/classification_results_basic_small.csv', index_col = 0)\n",
    "final_res = final_res.replace({\"OT greedy\": \"OT\"})"
   ]
  },
  {
   "cell_type": "code",
   "execution_count": null,
   "metadata": {},
   "outputs": [],
   "source": [
    "sns.set_theme()\n",
    "sns.set_style(\"ticks\")\n",
    "\n",
    "plt.figure(figsize=(10,7))\n",
    "ax = sns.lineplot(data=final_res, x=\"sigma\", y=\"accuracy\", hue=\"method\", marker=\"o\", palette = mypalette)\n",
    "\n",
    "#ax.set_title('Classification Accuracy when Increasing Noise in GPS on a Synthetic Dataset\\n (3839 trees of NEON Dataset)', size = 14)\n",
    "#ax.set_ylim(0,1)\n",
    "ax.set_xlabel(\"Sigma (m)\",fontsize=15)\n",
    "ax.set_ylabel(\"Accuracy\",fontsize=15)\n",
    "sns.despine()\n"
   ]
  },
  {
   "cell_type": "markdown",
   "metadata": {},
   "source": [
    "#### Test species classifier on NEON tiles (ABBY_063, UNDE_006 and BART_050)"
   ]
  },
  {
   "cell_type": "code",
   "execution_count": null,
   "metadata": {},
   "outputs": [],
   "source": [
    "import matplotlib.image as mpimg\n",
    "import seaborn as sns\n",
    "from mpl_toolkits.axes_grid1 import make_axes_locatable"
   ]
  },
  {
   "cell_type": "code",
   "execution_count": null,
   "metadata": {},
   "outputs": [],
   "source": [
    "df_drone = pd.read_csv('NEON/annotations/final_annotations.csv', index_col = 0)\n",
    "df_ground = pd.read_csv('NEON/features/final_ground_data.csv', index_col = 0)"
   ]
  },
  {
   "cell_type": "code",
   "execution_count": null,
   "metadata": {},
   "outputs": [],
   "source": [
    "df_drone.columns"
   ]
  },
  {
   "cell_type": "code",
   "execution_count": null,
   "metadata": {},
   "outputs": [],
   "source": [
    "def get_patches(df):\n",
    "    patches = []\n",
    "    new_df = df.copy()\n",
    "\n",
    "    for index, row in df.iterrows():\n",
    "        src = rasterio.open(os.path.join('NEON/images', row.img_path))\n",
    "        raster = src.read()\n",
    "        image = reshape_as_image(raster)\n",
    "        tree = image[int(row.ymin):int(row.ymax), int(row.xmin):int(row.xmax)].astype(int)\n",
    "        if tree.shape[0] > 0 and tree.shape[1] > 0:\n",
    "            img = cv2.resize(np.array(tree, dtype = np.float32), (224, 224))\n",
    "            patches.append(img)\n",
    "        else:\n",
    "            new_df = new_df.drop(index = index)\n",
    "    \n",
    "    patches = np.array(patches, dtype = np.float32)\n",
    "    new_df = new_df.reset_index(drop = True)\n",
    "        \n",
    "    return(patches, new_df)\n"
   ]
  },
  {
   "cell_type": "code",
   "execution_count": null,
   "metadata": {},
   "outputs": [],
   "source": [
    "#img_name = 'ABBY_063.tif'\n",
    "#img_name = 'UNDE_006.tif'\n",
    "img_name = 'BART_050.tif'\n",
    "\n",
    "df_img = df_drone[df_drone.img_path == img_name]\n",
    "#patches, df_img = get_patches(df_img)\n",
    "#np.save('NEON/cnn/test/patches_{}.npy'.format(img_name.replace('.tif','')), patches)"
   ]
  },
  {
   "cell_type": "code",
   "execution_count": null,
   "metadata": {
    "scrolled": true
   },
   "outputs": [],
   "source": [
    "list_species = np.load('NEON/data/list_species_reduced.npy', allow_pickle=True)\n",
    "print(len(list_species))\n",
    "dico_species = {i:list_species[i] for i in range(len(list_species))}\n",
    "rev_subs = { v:k for k,v in dico_species.items()}\n",
    "print(rev_subs)"
   ]
  },
  {
   "cell_type": "code",
   "execution_count": null,
   "metadata": {
    "scrolled": true
   },
   "outputs": [],
   "source": [
    "labels = np.load('NEON/cnn/test/labels_{}.npy'.format(img_name.replace('.tif','')))\n",
    "df_img['label'] = labels\n",
    "\n",
    "src = rasterio.open('NEON/images/{}'.format(img_name))\n",
    "raster = src.read()\n",
    "image = reshape_as_image(raster)\n",
    "\n",
    "# Plot all points\n",
    "fig, ax = plt.subplots(1, figsize = (15,15))\n",
    "im = mpimg.imread('NEON/images/{}'.format(img_name))\n",
    "\n",
    "ax = sns.scatterplot(x=\"x\", y=\"y\", data=df_img, s = 150, hue=\"label\", edgecolor='black',linewidth=1, palette = palette)\n",
    "plt.axis('off')\n",
    "ax.imshow(im)\n",
    "\n",
    "plt.legend(loc=\"lower right\", borderaxespad=0., fontsize=20, markerscale=2)"
   ]
  },
  {
   "cell_type": "code",
   "execution_count": null,
   "metadata": {
    "scrolled": true
   },
   "outputs": [],
   "source": [
    "final_true = pd.read_csv('NEON/data/true_matching.csv', index_col = 0)\n",
    "\n",
    "final_true['name'] = final_true[\"scientificName\"].apply(lambda x: x.split(' ')[0])\n",
    "unique = final_true[\"name\"].unique()\n",
    "palette = dict(zip(unique, sns.color_palette(n_colors=len(unique)))) \n",
    "\n",
    "final_true.columns"
   ]
  },
  {
   "cell_type": "code",
   "execution_count": null,
   "metadata": {
    "scrolled": true
   },
   "outputs": [],
   "source": [
    "#img_name = 'ABBY_063.tif'\n",
    "#img_name = 'UNDE_006.tif'\n",
    "img_name = 'BART_050.tif'\n",
    "\n",
    "df_img = final_true[final_true.img_path ==img_name]\n",
    "\n",
    "src = rasterio.open('NEON/images/{}'.format(img_name))\n",
    "raster = src.read()\n",
    "image = reshape_as_image(raster)\n",
    "\n",
    "# Plot all points\n",
    "fig, ax = plt.subplots(1, figsize = (15,15))\n",
    "im = mpimg.imread('NEON/images/{}'.format(img_name))\n",
    "\n",
    "ax = sns.scatterplot(x=\"x\", y=\"y\", data=df_img, s = 150, hue=\"name\", edgecolor='black',linewidth=1, palette = palette)\n",
    "plt.axis('off')\n",
    "ax.imshow(im)\n",
    "plt.legend(loc=\"lower right\", borderaxespad=0., fontsize=20, markerscale=2)"
   ]
  },
  {
   "cell_type": "code",
   "execution_count": null,
   "metadata": {},
   "outputs": [],
   "source": [
    "from numpy import random\n",
    "\n",
    "# Initial Ground measurements\n",
    "\n",
    "for site_name in list_sites2:\n",
    "    site = final_true[final_true.site == site_name]\n",
    "    img_name = random.choice(site.img_path.unique())\n",
    "    print(img_name)\n",
    "\n",
    "    df_img = final_true[final_true.img_path ==img_name]\n",
    "\n",
    "    src = rasterio.open('NEON/images/{}'.format(img_name))\n",
    "    raster = src.read()\n",
    "    image = reshape_as_image(raster)\n",
    "\n",
    "    # Plot all points\n",
    "    fig, ax = plt.subplots(1, figsize = (15,15))\n",
    "    im = mpimg.imread('NEON/images/{}'.format(img_name))\n",
    "\n",
    "    ax = sns.scatterplot(x=\"x\", y=\"y\", data=df_img, s = 100, hue=\"name\", edgecolor='black',linewidth=1, palette = palette)\n",
    "    ax.imshow(im)\n",
    "    plt.title('Species Observations', fontsize=16, y = 1.05)\n",
    "    plt.savefig('NEON/results/fig/species_observations_{}.png'.format(img_name))\n"
   ]
  },
  {
   "cell_type": "code",
   "execution_count": null,
   "metadata": {},
   "outputs": [],
   "source": []
  }
 ],
 "metadata": {
  "kernelspec": {
   "display_name": "Python 3",
   "language": "python",
   "name": "python3"
  },
  "language_info": {
   "codemirror_mode": {
    "name": "ipython",
    "version": 3
   },
   "file_extension": ".py",
   "mimetype": "text/x-python",
   "name": "python",
   "nbconvert_exporter": "python",
   "pygments_lexer": "ipython3",
   "version": "3.6.5"
  }
 },
 "nbformat": 4,
 "nbformat_minor": 4
}
