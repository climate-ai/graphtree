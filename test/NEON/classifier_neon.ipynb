{
 "cells": [
  {
   "cell_type": "markdown",
   "metadata": {},
   "source": [
    "# Species Classification for NEON dataset"
   ]
  },
  {
   "cell_type": "code",
   "execution_count": 1,
   "metadata": {
    "gather": {
     "logged": 1609931306003
    }
   },
   "outputs": [],
   "source": [
    "import tensorflow as tf\n",
    "import numpy as np\n",
    "from itertools import cycle\n",
    "import cv2\n",
    "import pandas as pd\n",
    "import matplotlib.pyplot as plt\n",
    "\n",
    "from sklearn import svm, datasets\n",
    "from sklearn.metrics import roc_curve, auc, cohen_kappa_score, confusion_matrix\n",
    "from sklearn.metrics import accuracy_score, precision_score, recall_score, f1_score\n",
    "from sklearn.model_selection import train_test_split\n",
    "from sklearn.preprocessing import label_binarize\n",
    "from sklearn.multiclass import OneVsRestClassifier\n",
    "from scipy import interp\n",
    "from sklearn.metrics import roc_auc_score\n",
    "\n",
    "\n",
    "import keras\n",
    "from keras.models import Sequential\n",
    "from keras.layers import Dense, Conv2D, MaxPooling2D, BatchNormalization, GlobalAveragePooling2D, Flatten, Dropout, InputLayer\n",
    "from tensorflow.keras import optimizers, models\n",
    "from keras.applications.resnet50 import ResNet50\n",
    "from keras.applications.mobilenet_v2 import MobileNetV2\n",
    "from keras.models import Model\n",
    "from keras.models import Sequential\n",
    "from keras import optimizers\n",
    "from keras.applications.mobilenet_v2 import preprocess_input\n",
    "from tensorflow.keras.utils import to_categorical\n",
    "from tensorflow.keras.preprocessing.image import ImageDataGenerator\n",
    "\n",
    "\n",
    "\n",
    "import torch \n",
    "from torchvision import transforms\n",
    "\n"
   ]
  },
  {
   "cell_type": "code",
   "execution_count": 3,
   "metadata": {
    "collapsed": true,
    "gather": {
     "logged": 1609931321107
    },
    "jupyter": {
     "outputs_hidden": false,
     "source_hidden": false
    },
    "nteract": {
     "transient": {
      "deleting": false
     }
    }
   },
   "outputs": [],
   "source": [
    "def process(X, y):\n",
    "    y = [item.split(' ')[0] for item in y]\n",
    "    n = len(X)\n",
    "    y_bis = []\n",
    "    resized_patch = []\n",
    "    for i in range(n):\n",
    "        if X[i].shape[0] > 0 and X[i].shape[1] > 0:\n",
    "            img = cv2.resize(np.array(X[i], dtype = np.float32), (224, 224))\n",
    "            resized_patch.append(img)\n",
    "            y_bis.append(rev_subs.get(y[i],y[i]))\n",
    "    X = np.array(resized_patch, dtype = np.float32)\n",
    "    y = np.array(y_bis, dtype=np.int32)\n",
    "    return(X, y)"
   ]
  },
  {
   "cell_type": "code",
   "execution_count": 3,
   "metadata": {
    "collapsed": true,
    "gather": {
     "logged": 1609862272464
    },
    "jupyter": {
     "outputs_hidden": false,
     "source_hidden": false
    },
    "nteract": {
     "transient": {
      "deleting": false
     }
    }
   },
   "outputs": [],
   "source": [
    "def train_model():\n",
    "    base_model = MobileNetV2(include_top = False, input_shape=(224, 224, 3))\n",
    "    #base_model = MobileNetV2(include_top = False, weights = None,  input_shape=(224, 224, 3))\n",
    "    base_model.trainable = False\n",
    "\n",
    "    x = base_model.output\n",
    "    x = GlobalAveragePooling2D()(x)\n",
    "    x = Dense(128, activation = tf.nn.relu)(x)\n",
    "    x = Dense(128, activation = tf.nn.relu)(x)\n",
    "    preds = Dense(63, activation = tf.nn.softmax)(x)\n",
    "\n",
    "    model= Model(inputs=base_model.input,outputs=preds)\n",
    "\n",
    "    #for i, layer in enumerate(model.layers):\n",
    "        #print(i, layer.name)\n",
    "\n",
    "    #for layer in model.layers[-20:]:\n",
    "        #layer.trainable = False\n",
    "\n",
    "    epochs = 10\n",
    "    learning_rate = 0.1\n",
    "    decay_rate = learning_rate / epochs\n",
    "    momentum = 0.8\n",
    "    #opt = tf.keras.optimizers.SGD(lr=learning_rate, momentum=momentum, decay=decay_rate, nesterov=False)\n",
    "    opt = tf.keras.optimizers.SGD(lr=0.1)\n",
    "    \n",
    "    model.compile(loss='categorical_crossentropy',\n",
    "                optimizer=opt,\n",
    "                metrics=['accuracy'])\n",
    "\n",
    "    return(model)"
   ]
  },
  {
   "cell_type": "code",
   "execution_count": 4,
   "metadata": {
    "collapsed": true,
    "gather": {
     "logged": 1609862274944
    },
    "jupyter": {
     "outputs_hidden": false,
     "source_hidden": false
    },
    "nteract": {
     "transient": {
      "deleting": false
     }
    }
   },
   "outputs": [],
   "source": [
    "def train_model_basic():\n",
    "\n",
    "    IMG_SIZE = 224\n",
    "\n",
    "    model = Sequential()\n",
    "    model.add(Conv2D(64, kernel_size=6, activation='relu', input_shape=(IMG_SIZE, IMG_SIZE, 3)))\n",
    "    model.add(MaxPooling2D(pool_size=(2,2)))\n",
    "    model.add(BatchNormalization(momentum=0.01))\n",
    "\n",
    "    model.add(Conv2D(64, kernel_size=3, activation='relu'))\n",
    "    model.add(MaxPooling2D(pool_size=(2,2)))\n",
    "    model.add(BatchNormalization(momentum=0.01))\n",
    "\n",
    "    model.add(Conv2D(32, kernel_size=3, activation='relu'))\n",
    "    model.add(MaxPooling2D(pool_size=(2,2)))\n",
    "    model.add(BatchNormalization(momentum=0.01))\n",
    "\n",
    "    model.add(Conv2D(32, kernel_size=3, activation='relu'))\n",
    "    model.add(MaxPooling2D(pool_size=(2,2)))\n",
    "    model.add(BatchNormalization(momentum=0.01))\n",
    "\n",
    "    model.add(Flatten())\n",
    "    model.add(Dense(128, activation='relu'))\n",
    "    model.add(Dense(63, activation='softmax'))\n",
    "\n",
    "    epochs = 5\n",
    "    learning_rate = 0.01\n",
    "    decay_rate = learning_rate / epochs\n",
    "    momentum = 0.8\n",
    "    opt = tf.keras.optimizers.SGD(lr=learning_rate, momentum=momentum, decay=decay_rate, nesterov=False)\n",
    "\n",
    "    model.compile(loss='categorical_crossentropy',\n",
    "                optimizer=opt,\n",
    "                metrics=['accuracy'])\n",
    "\n",
    "    return(model)\n",
    "    "
   ]
  },
  {
   "cell_type": "markdown",
   "metadata": {
    "nteract": {
     "transient": {
      "deleting": false
     }
    }
   },
   "source": [
    "## Testing Set\n",
    "\n",
    "5 folds from the true matching."
   ]
  },
  {
   "cell_type": "code",
   "execution_count": 5,
   "metadata": {
    "collapsed": true,
    "gather": {
     "logged": 1609931334537
    },
    "jupyter": {
     "outputs_hidden": false,
     "source_hidden": false
    },
    "nteract": {
     "transient": {
      "deleting": false
     }
    }
   },
   "outputs": [
    {
     "name": "stdout",
     "output_type": "stream",
     "text": [
      "63\n",
      "{'Abies': 0, 'Acer': 1, 'Aesculus': 2, 'Amelanchier': 3, 'Arctostaphylos': 4, 'Asimina': 5, 'Bejaria': 6, 'Betula': 7, 'Calocedrus': 8, 'Carpinus': 9, 'Carya': 10, 'Castanea': 11, 'Ceanothus': 12, 'Celtis': 13, 'Cephalanthus': 14, 'Cercis': 15, 'Cornus': 16, 'Corylus': 17, 'Crataegus': 18, 'Diospyros': 19, 'Fagus': 20, 'Frangula': 21, 'Fraxinus': 22, 'Gaultheria': 23, 'Hamamelis': 24, 'Ilex': 25, 'Juglans': 26, 'Juniperus': 27, 'Liquidambar': 28, 'Liriodendron': 29, 'Lupinus': 30, 'Lyonia': 31, 'Maclura': 32, 'Magnolia': 33, 'Morella': 34, 'Morus': 35, 'Nyssa': 36, 'Ostrya': 37, 'Persea': 38, 'Picea': 39, 'Pinaceae': 40, 'Pinus': 41, 'Platanus': 42, 'Populus': 43, 'Prunus': 44, 'Pseudotsuga': 45, 'Pyrus': 46, 'Quercus': 47, 'Rhamnus': 48, 'Rhus': 49, 'Robinia': 50, 'Salix': 51, 'Sassafras': 52, 'Serenoa': 53, 'Taxus': 54, 'Thuja': 55, 'Tilia': 56, 'Triadica': 57, 'Tsuga': 58, 'Ulmus': 59, 'Unknown': 60, 'Vaccinium': 61, 'Vitis': 62}\n"
     ]
    }
   ],
   "source": [
    "list_species = np.load('data/list_species_reduced.npy', allow_pickle=True)\n",
    "print(len(list_species))\n",
    "dico_species = {i:list_species[i] for i in range(len(list_species))}\n",
    "rev_subs = { v:k for k,v in dico_species.items()}\n",
    "print(rev_subs)"
   ]
  },
  {
   "cell_type": "markdown",
   "metadata": {
    "nteract": {
     "transient": {
      "deleting": false
     }
    }
   },
   "source": [
    "## Training Steps"
   ]
  },
  {
   "cell_type": "code",
   "execution_count": 6,
   "metadata": {
    "collapsed": true,
    "gather": {
     "logged": 1609862280529
    },
    "jupyter": {
     "outputs_hidden": false,
     "source_hidden": false
    },
    "nteract": {
     "transient": {
      "deleting": false
     }
    }
   },
   "outputs": [],
   "source": [
    "def train_on_matching(method, sigma, model_choice):\n",
    "\n",
    "        PATCHES_TEST = []\n",
    "        LABELS_TEST = []\n",
    "        for i in range(1,6):\n",
    "                XX = np.load('cnn/test/patches_test_{}.npy'.format(i), allow_pickle=True)\n",
    "                yy = np.load('cnn/test/labels_test_{}.npy'.format(i))\n",
    "\n",
    "                XX, yy = process(XX, yy)\n",
    "                PATCHES_TEST.append(XX)\n",
    "                LABELS_TEST.append(yy)\n",
    "    \n",
    "        dir = 'cnn/train'\n",
    "        path_patches = os.path.join(dir, 'patches_{}_sigma_{}.npy'.format(method, sigma))\n",
    "        path_labels = os.path.join(dir, 'labels_{}_sigma_{}.npy'.format(method, sigma))\n",
    "        patches = np.load(path_patches, allow_pickle=True)\n",
    "        labels = np.load(path_labels, allow_pickle=True)\n",
    "\n",
    "        \n",
    "        if model_choice == 'basic':\n",
    "\n",
    "                X, y = process(patches, labels)\n",
    "                X_train, X_val, y_train, y_val = train_test_split(X, to_categorical(y), test_size = 0.15, random_state = 2)\n",
    "        \n",
    "                train_species = ImageDataGenerator(rescale = 1/255)\n",
    "                validation_species = ImageDataGenerator(rescale = 1/255)\n",
    "\n",
    "                # Flow training images in batches of 120 using train_datagen generator\n",
    "                train_generator = train_species.flow( X_train, y_train, # All images will be resized to 200x200\n",
    "                        batch_size=64)\n",
    "\n",
    "                # Flow validation images in batches of 19 using valid_datagen generator\n",
    "                validation_generator = validation_species.flow(X_val, y_val,  # All images will be resized to 200x200\n",
    "                        batch_size=64,\n",
    "                        shuffle=False)\n",
    "\n",
    "                model = train_model_basic()\n",
    "\n",
    "        if model_choice == 'mobilenetv2':\n",
    "        \n",
    "                X, y = process(patches, labels)\n",
    "                X_train, X_val, y_train, y_val = train_test_split(X, to_categorical(y).astype(int), test_size = 0.15, random_state = 2)\n",
    "                train_species = ImageDataGenerator(preprocessing_function=preprocess_input)\n",
    "                validation_species = ImageDataGenerator(preprocessing_function=preprocess_input)\n",
    "                # Flow training images in batches of 120 using train_datagen generator\n",
    "                train_generator = train_species.flow( X_train, y_train, # All images will be resized to 200x200\n",
    "                        batch_size=64)\n",
    "\n",
    "                # Flow validation images in batches of 19 using valid_datagen generator\n",
    "                validation_generator = validation_species.flow(X_val, y_val,  # All images will be resized to 200x200\n",
    "                        batch_size=64,\n",
    "                        shuffle=False)\n",
    "\n",
    "                model = train_model()\n",
    "\n",
    "\n",
    "        history = model.fit(train_generator,  \n",
    "        epochs=5,\n",
    "        verbose=1,\n",
    "        validation_data = validation_generator) \n",
    "        #use_multiprocessing=True, workers=8)\n",
    "\n",
    "        acc_tests = []\n",
    "        for i in range(len(LABELS_TEST)):\n",
    "                X_test = PATCHES_TEST[i]\n",
    "                y_test = LABELS_TEST[i]\n",
    "\n",
    "                if model_choice == 'basic':\n",
    "                        X_test = X_test/255\n",
    "                if model_choice == 'mobilenetv2':\n",
    "                        X_test = preprocess_input(X_test)\n",
    "\n",
    "                # predict probabilities for test set\n",
    "                yhat_probs = model.predict(X_test, verbose=0)\n",
    "                # predict crisp classes for test set\n",
    "                yhat_classes = np.argmax(yhat_probs,axis=1)\n",
    "                \n",
    "                #print('probs: ', yhat_probs[:3])\n",
    "                print('classes: ', yhat_classes[:3])\n",
    "                print('y_test: ', y_test[:3])\n",
    "\n",
    "\n",
    "                # accuracy: (tp + tn) / (p + n)\n",
    "                accuracy = accuracy_score(y_test, yhat_classes)\n",
    "                print('Accuracy: %f' % accuracy)\n",
    "                acc_tests.append(accuracy)\n",
    "        return(acc_tests)"
   ]
  },
  {
   "cell_type": "code",
   "execution_count": 7,
   "metadata": {
    "collapsed": true,
    "gather": {
     "logged": 1609754440309
    },
    "jupyter": {
     "outputs_hidden": false,
     "source_hidden": false
    },
    "nteract": {
     "transient": {
      "deleting": false
     }
    }
   },
   "outputs": [
    {
     "name": "stdout",
     "output_type": "stream",
     "text": [
      "OT non greedy 0.0\n"
     ]
    },
    {
     "ename": "KeyboardInterrupt",
     "evalue": "",
     "output_type": "error",
     "traceback": [
      "\u001B[0;31m---------------------------------------------------------------------------\u001B[0m",
      "\u001B[0;31mKeyboardInterrupt\u001B[0m                         Traceback (most recent call last)",
      "\u001B[0;32m<ipython-input-7-c466d296cad2>\u001B[0m in \u001B[0;36m<module>\u001B[0;34m\u001B[0m\n\u001B[1;32m     10\u001B[0m         \u001B[0mprint\u001B[0m\u001B[0;34m(\u001B[0m\u001B[0mmethod\u001B[0m\u001B[0;34m,\u001B[0m \u001B[0msigma\u001B[0m\u001B[0;34m)\u001B[0m\u001B[0;34m\u001B[0m\u001B[0;34m\u001B[0m\u001B[0m\n\u001B[1;32m     11\u001B[0m \u001B[0;34m\u001B[0m\u001B[0m\n\u001B[0;32m---> 12\u001B[0;31m         \u001B[0macc_tests\u001B[0m \u001B[0;34m=\u001B[0m \u001B[0mtrain_on_matching\u001B[0m\u001B[0;34m(\u001B[0m\u001B[0mmethods\u001B[0m\u001B[0;34m[\u001B[0m\u001B[0mi\u001B[0m\u001B[0;34m]\u001B[0m\u001B[0;34m,\u001B[0m \u001B[0msigmas\u001B[0m\u001B[0;34m[\u001B[0m\u001B[0mk\u001B[0m\u001B[0;34m]\u001B[0m\u001B[0;34m,\u001B[0m \u001B[0mmodel_choice\u001B[0m \u001B[0;34m=\u001B[0m \u001B[0;34m'mobilenetv2'\u001B[0m\u001B[0;34m)\u001B[0m\u001B[0;34m\u001B[0m\u001B[0;34m\u001B[0m\u001B[0m\n\u001B[0m\u001B[1;32m     13\u001B[0m \u001B[0;34m\u001B[0m\u001B[0m\n\u001B[1;32m     14\u001B[0m         \u001B[0mdf_sup\u001B[0m \u001B[0;34m=\u001B[0m \u001B[0mpd\u001B[0m\u001B[0;34m.\u001B[0m\u001B[0mDataFrame\u001B[0m\u001B[0;34m(\u001B[0m\u001B[0;34m)\u001B[0m\u001B[0;34m\u001B[0m\u001B[0;34m\u001B[0m\u001B[0m\n",
      "\u001B[0;32m<ipython-input-6-45dd5be33a89>\u001B[0m in \u001B[0;36mtrain_on_matching\u001B[0;34m(method, sigma, model_choice)\u001B[0m\n\u001B[1;32m     52\u001B[0m                         shuffle=False)\n\u001B[1;32m     53\u001B[0m \u001B[0;34m\u001B[0m\u001B[0m\n\u001B[0;32m---> 54\u001B[0;31m                 \u001B[0mmodel\u001B[0m \u001B[0;34m=\u001B[0m \u001B[0mtrain_model\u001B[0m\u001B[0;34m(\u001B[0m\u001B[0;34m)\u001B[0m\u001B[0;34m\u001B[0m\u001B[0;34m\u001B[0m\u001B[0m\n\u001B[0m\u001B[1;32m     55\u001B[0m \u001B[0;34m\u001B[0m\u001B[0m\n\u001B[1;32m     56\u001B[0m \u001B[0;34m\u001B[0m\u001B[0m\n",
      "\u001B[0;32m<ipython-input-3-a4a81317d428>\u001B[0m in \u001B[0;36mtrain_model\u001B[0;34m()\u001B[0m\n\u001B[1;32m      1\u001B[0m \u001B[0;32mdef\u001B[0m \u001B[0mtrain_model\u001B[0m\u001B[0;34m(\u001B[0m\u001B[0;34m)\u001B[0m\u001B[0;34m:\u001B[0m\u001B[0;34m\u001B[0m\u001B[0;34m\u001B[0m\u001B[0m\n\u001B[0;32m----> 2\u001B[0;31m     \u001B[0mbase_model\u001B[0m \u001B[0;34m=\u001B[0m \u001B[0mMobileNetV2\u001B[0m\u001B[0;34m(\u001B[0m\u001B[0minclude_top\u001B[0m \u001B[0;34m=\u001B[0m \u001B[0;32mFalse\u001B[0m\u001B[0;34m,\u001B[0m \u001B[0minput_shape\u001B[0m\u001B[0;34m=\u001B[0m\u001B[0;34m(\u001B[0m\u001B[0;36m224\u001B[0m\u001B[0;34m,\u001B[0m \u001B[0;36m224\u001B[0m\u001B[0;34m,\u001B[0m \u001B[0;36m3\u001B[0m\u001B[0;34m)\u001B[0m\u001B[0;34m)\u001B[0m\u001B[0;34m\u001B[0m\u001B[0;34m\u001B[0m\u001B[0m\n\u001B[0m\u001B[1;32m      3\u001B[0m     \u001B[0;31m#base_model = MobileNetV2(include_top = False, weights = None,  input_shape=(224, 224, 3))\u001B[0m\u001B[0;34m\u001B[0m\u001B[0;34m\u001B[0m\u001B[0;34m\u001B[0m\u001B[0m\n\u001B[1;32m      4\u001B[0m     \u001B[0mbase_model\u001B[0m\u001B[0;34m.\u001B[0m\u001B[0mtrainable\u001B[0m \u001B[0;34m=\u001B[0m \u001B[0;32mFalse\u001B[0m\u001B[0;34m\u001B[0m\u001B[0;34m\u001B[0m\u001B[0m\n\u001B[1;32m      5\u001B[0m \u001B[0;34m\u001B[0m\u001B[0m\n",
      "\u001B[0;32m/anaconda/envs/azureml_py36/lib/python3.6/site-packages/tensorflow/python/keras/applications/mobilenet_v2.py\u001B[0m in \u001B[0;36mMobileNetV2\u001B[0;34m(input_shape, alpha, include_top, weights, input_tensor, pooling, classes, classifier_activation, **kwargs)\u001B[0m\n\u001B[1;32m    309\u001B[0m       \u001B[0muse_bias\u001B[0m\u001B[0;34m=\u001B[0m\u001B[0;32mFalse\u001B[0m\u001B[0;34m,\u001B[0m\u001B[0;34m\u001B[0m\u001B[0;34m\u001B[0m\u001B[0m\n\u001B[1;32m    310\u001B[0m       \u001B[0mname\u001B[0m\u001B[0;34m=\u001B[0m\u001B[0;34m'Conv1'\u001B[0m\u001B[0;34m)\u001B[0m\u001B[0;34m(\u001B[0m\u001B[0;34m\u001B[0m\u001B[0;34m\u001B[0m\u001B[0m\n\u001B[0;32m--> 311\u001B[0;31m           x)\n\u001B[0m\u001B[1;32m    312\u001B[0m   x = layers.BatchNormalization(\n\u001B[1;32m    313\u001B[0m       \u001B[0maxis\u001B[0m\u001B[0;34m=\u001B[0m\u001B[0mchannel_axis\u001B[0m\u001B[0;34m,\u001B[0m \u001B[0mepsilon\u001B[0m\u001B[0;34m=\u001B[0m\u001B[0;36m1e-3\u001B[0m\u001B[0;34m,\u001B[0m \u001B[0mmomentum\u001B[0m\u001B[0;34m=\u001B[0m\u001B[0;36m0.999\u001B[0m\u001B[0;34m,\u001B[0m \u001B[0mname\u001B[0m\u001B[0;34m=\u001B[0m\u001B[0;34m'bn_Conv1'\u001B[0m\u001B[0;34m)\u001B[0m\u001B[0;34m(\u001B[0m\u001B[0;34m\u001B[0m\u001B[0;34m\u001B[0m\u001B[0m\n",
      "\u001B[0;32m/anaconda/envs/azureml_py36/lib/python3.6/site-packages/tensorflow/python/keras/engine/base_layer.py\u001B[0m in \u001B[0;36m__call__\u001B[0;34m(self, *args, **kwargs)\u001B[0m\n\u001B[1;32m    924\u001B[0m     \u001B[0;32mif\u001B[0m \u001B[0m_in_functional_construction_mode\u001B[0m\u001B[0;34m(\u001B[0m\u001B[0mself\u001B[0m\u001B[0;34m,\u001B[0m \u001B[0minputs\u001B[0m\u001B[0;34m,\u001B[0m \u001B[0margs\u001B[0m\u001B[0;34m,\u001B[0m \u001B[0mkwargs\u001B[0m\u001B[0;34m,\u001B[0m \u001B[0minput_list\u001B[0m\u001B[0;34m)\u001B[0m\u001B[0;34m:\u001B[0m\u001B[0;34m\u001B[0m\u001B[0;34m\u001B[0m\u001B[0m\n\u001B[1;32m    925\u001B[0m       return self._functional_construction_call(inputs, args, kwargs,\n\u001B[0;32m--> 926\u001B[0;31m                                                 input_list)\n\u001B[0m\u001B[1;32m    927\u001B[0m \u001B[0;34m\u001B[0m\u001B[0m\n\u001B[1;32m    928\u001B[0m     \u001B[0;31m# Maintains info about the `Layer.call` stack.\u001B[0m\u001B[0;34m\u001B[0m\u001B[0;34m\u001B[0m\u001B[0;34m\u001B[0m\u001B[0m\n",
      "\u001B[0;32m/anaconda/envs/azureml_py36/lib/python3.6/site-packages/tensorflow/python/keras/engine/base_layer.py\u001B[0m in \u001B[0;36m_functional_construction_call\u001B[0;34m(self, inputs, args, kwargs, input_list)\u001B[0m\n\u001B[1;32m   1096\u001B[0m         \u001B[0;31m# Build layer if applicable (if the `build` method has been\u001B[0m\u001B[0;34m\u001B[0m\u001B[0;34m\u001B[0m\u001B[0;34m\u001B[0m\u001B[0m\n\u001B[1;32m   1097\u001B[0m         \u001B[0;31m# overridden).\u001B[0m\u001B[0;34m\u001B[0m\u001B[0;34m\u001B[0m\u001B[0;34m\u001B[0m\u001B[0m\n\u001B[0;32m-> 1098\u001B[0;31m         \u001B[0mself\u001B[0m\u001B[0;34m.\u001B[0m\u001B[0m_maybe_build\u001B[0m\u001B[0;34m(\u001B[0m\u001B[0minputs\u001B[0m\u001B[0;34m)\u001B[0m\u001B[0;34m\u001B[0m\u001B[0;34m\u001B[0m\u001B[0m\n\u001B[0m\u001B[1;32m   1099\u001B[0m         \u001B[0mcast_inputs\u001B[0m \u001B[0;34m=\u001B[0m \u001B[0mself\u001B[0m\u001B[0;34m.\u001B[0m\u001B[0m_maybe_cast_inputs\u001B[0m\u001B[0;34m(\u001B[0m\u001B[0minputs\u001B[0m\u001B[0;34m,\u001B[0m \u001B[0minput_list\u001B[0m\u001B[0;34m)\u001B[0m\u001B[0;34m\u001B[0m\u001B[0;34m\u001B[0m\u001B[0m\n\u001B[1;32m   1100\u001B[0m \u001B[0;34m\u001B[0m\u001B[0m\n",
      "\u001B[0;32m/anaconda/envs/azureml_py36/lib/python3.6/site-packages/tensorflow/python/keras/engine/base_layer.py\u001B[0m in \u001B[0;36m_maybe_build\u001B[0;34m(self, inputs)\u001B[0m\n\u001B[1;32m   2641\u001B[0m         \u001B[0;31m# operations.\u001B[0m\u001B[0;34m\u001B[0m\u001B[0;34m\u001B[0m\u001B[0;34m\u001B[0m\u001B[0m\n\u001B[1;32m   2642\u001B[0m         \u001B[0;32mwith\u001B[0m \u001B[0mtf_utils\u001B[0m\u001B[0;34m.\u001B[0m\u001B[0mmaybe_init_scope\u001B[0m\u001B[0;34m(\u001B[0m\u001B[0mself\u001B[0m\u001B[0;34m)\u001B[0m\u001B[0;34m:\u001B[0m\u001B[0;34m\u001B[0m\u001B[0;34m\u001B[0m\u001B[0m\n\u001B[0;32m-> 2643\u001B[0;31m           \u001B[0mself\u001B[0m\u001B[0;34m.\u001B[0m\u001B[0mbuild\u001B[0m\u001B[0;34m(\u001B[0m\u001B[0minput_shapes\u001B[0m\u001B[0;34m)\u001B[0m  \u001B[0;31m# pylint:disable=not-callable\u001B[0m\u001B[0;34m\u001B[0m\u001B[0;34m\u001B[0m\u001B[0m\n\u001B[0m\u001B[1;32m   2644\u001B[0m       \u001B[0;31m# We must set also ensure that the layer is marked as built, and the build\u001B[0m\u001B[0;34m\u001B[0m\u001B[0;34m\u001B[0m\u001B[0;34m\u001B[0m\u001B[0m\n\u001B[1;32m   2645\u001B[0m       \u001B[0;31m# shape is stored since user defined build functions may not be calling\u001B[0m\u001B[0;34m\u001B[0m\u001B[0;34m\u001B[0m\u001B[0;34m\u001B[0m\u001B[0m\n",
      "\u001B[0;32m/anaconda/envs/azureml_py36/lib/python3.6/site-packages/tensorflow/python/keras/layers/convolutional.py\u001B[0m in \u001B[0;36mbuild\u001B[0;34m(self, input_shape)\u001B[0m\n\u001B[1;32m    202\u001B[0m         \u001B[0mconstraint\u001B[0m\u001B[0;34m=\u001B[0m\u001B[0mself\u001B[0m\u001B[0;34m.\u001B[0m\u001B[0mkernel_constraint\u001B[0m\u001B[0;34m,\u001B[0m\u001B[0;34m\u001B[0m\u001B[0;34m\u001B[0m\u001B[0m\n\u001B[1;32m    203\u001B[0m         \u001B[0mtrainable\u001B[0m\u001B[0;34m=\u001B[0m\u001B[0;32mTrue\u001B[0m\u001B[0;34m,\u001B[0m\u001B[0;34m\u001B[0m\u001B[0;34m\u001B[0m\u001B[0m\n\u001B[0;32m--> 204\u001B[0;31m         dtype=self.dtype)\n\u001B[0m\u001B[1;32m    205\u001B[0m     \u001B[0;32mif\u001B[0m \u001B[0mself\u001B[0m\u001B[0;34m.\u001B[0m\u001B[0muse_bias\u001B[0m\u001B[0;34m:\u001B[0m\u001B[0;34m\u001B[0m\u001B[0;34m\u001B[0m\u001B[0m\n\u001B[1;32m    206\u001B[0m       self.bias = self.add_weight(\n",
      "\u001B[0;32m/anaconda/envs/azureml_py36/lib/python3.6/site-packages/tensorflow/python/keras/engine/base_layer.py\u001B[0m in \u001B[0;36madd_weight\u001B[0;34m(self, name, shape, dtype, initializer, regularizer, trainable, constraint, partitioner, use_resource, synchronization, aggregation, **kwargs)\u001B[0m\n\u001B[1;32m    612\u001B[0m         \u001B[0msynchronization\u001B[0m\u001B[0;34m=\u001B[0m\u001B[0msynchronization\u001B[0m\u001B[0;34m,\u001B[0m\u001B[0;34m\u001B[0m\u001B[0;34m\u001B[0m\u001B[0m\n\u001B[1;32m    613\u001B[0m         \u001B[0maggregation\u001B[0m\u001B[0;34m=\u001B[0m\u001B[0maggregation\u001B[0m\u001B[0;34m,\u001B[0m\u001B[0;34m\u001B[0m\u001B[0;34m\u001B[0m\u001B[0m\n\u001B[0;32m--> 614\u001B[0;31m         caching_device=caching_device)\n\u001B[0m\u001B[1;32m    615\u001B[0m     \u001B[0;32mif\u001B[0m \u001B[0mregularizer\u001B[0m \u001B[0;32mis\u001B[0m \u001B[0;32mnot\u001B[0m \u001B[0;32mNone\u001B[0m\u001B[0;34m:\u001B[0m\u001B[0;34m\u001B[0m\u001B[0;34m\u001B[0m\u001B[0m\n\u001B[1;32m    616\u001B[0m       \u001B[0;31m# TODO(fchollet): in the future, this should be handled at the\u001B[0m\u001B[0;34m\u001B[0m\u001B[0;34m\u001B[0m\u001B[0;34m\u001B[0m\u001B[0m\n",
      "\u001B[0;32m/anaconda/envs/azureml_py36/lib/python3.6/site-packages/tensorflow/python/training/tracking/base.py\u001B[0m in \u001B[0;36m_add_variable_with_custom_getter\u001B[0;34m(self, name, shape, dtype, initializer, getter, overwrite, **kwargs_for_getter)\u001B[0m\n\u001B[1;32m    748\u001B[0m         \u001B[0mdtype\u001B[0m\u001B[0;34m=\u001B[0m\u001B[0mdtype\u001B[0m\u001B[0;34m,\u001B[0m\u001B[0;34m\u001B[0m\u001B[0;34m\u001B[0m\u001B[0m\n\u001B[1;32m    749\u001B[0m         \u001B[0minitializer\u001B[0m\u001B[0;34m=\u001B[0m\u001B[0minitializer\u001B[0m\u001B[0;34m,\u001B[0m\u001B[0;34m\u001B[0m\u001B[0;34m\u001B[0m\u001B[0m\n\u001B[0;32m--> 750\u001B[0;31m         **kwargs_for_getter)\n\u001B[0m\u001B[1;32m    751\u001B[0m \u001B[0;34m\u001B[0m\u001B[0m\n\u001B[1;32m    752\u001B[0m     \u001B[0;31m# If we set an initializer and the variable processed it, tracking will not\u001B[0m\u001B[0;34m\u001B[0m\u001B[0;34m\u001B[0m\u001B[0;34m\u001B[0m\u001B[0m\n",
      "\u001B[0;32m/anaconda/envs/azureml_py36/lib/python3.6/site-packages/tensorflow/python/keras/engine/base_layer_utils.py\u001B[0m in \u001B[0;36mmake_variable\u001B[0;34m(name, shape, dtype, initializer, trainable, caching_device, validate_shape, constraint, use_resource, collections, synchronization, aggregation, partitioner)\u001B[0m\n\u001B[1;32m    143\u001B[0m       \u001B[0msynchronization\u001B[0m\u001B[0;34m=\u001B[0m\u001B[0msynchronization\u001B[0m\u001B[0;34m,\u001B[0m\u001B[0;34m\u001B[0m\u001B[0;34m\u001B[0m\u001B[0m\n\u001B[1;32m    144\u001B[0m       \u001B[0maggregation\u001B[0m\u001B[0;34m=\u001B[0m\u001B[0maggregation\u001B[0m\u001B[0;34m,\u001B[0m\u001B[0;34m\u001B[0m\u001B[0;34m\u001B[0m\u001B[0m\n\u001B[0;32m--> 145\u001B[0;31m       shape=variable_shape if variable_shape else None)\n\u001B[0m\u001B[1;32m    146\u001B[0m \u001B[0;34m\u001B[0m\u001B[0m\n\u001B[1;32m    147\u001B[0m \u001B[0;34m\u001B[0m\u001B[0m\n",
      "\u001B[0;32m/anaconda/envs/azureml_py36/lib/python3.6/site-packages/tensorflow/python/ops/variables.py\u001B[0m in \u001B[0;36m__call__\u001B[0;34m(cls, *args, **kwargs)\u001B[0m\n\u001B[1;32m    258\u001B[0m   \u001B[0;32mdef\u001B[0m \u001B[0m__call__\u001B[0m\u001B[0;34m(\u001B[0m\u001B[0mcls\u001B[0m\u001B[0;34m,\u001B[0m \u001B[0;34m*\u001B[0m\u001B[0margs\u001B[0m\u001B[0;34m,\u001B[0m \u001B[0;34m**\u001B[0m\u001B[0mkwargs\u001B[0m\u001B[0;34m)\u001B[0m\u001B[0;34m:\u001B[0m\u001B[0;34m\u001B[0m\u001B[0;34m\u001B[0m\u001B[0m\n\u001B[1;32m    259\u001B[0m     \u001B[0;32mif\u001B[0m \u001B[0mcls\u001B[0m \u001B[0;32mis\u001B[0m \u001B[0mVariableV1\u001B[0m\u001B[0;34m:\u001B[0m\u001B[0;34m\u001B[0m\u001B[0;34m\u001B[0m\u001B[0m\n\u001B[0;32m--> 260\u001B[0;31m       \u001B[0;32mreturn\u001B[0m \u001B[0mcls\u001B[0m\u001B[0;34m.\u001B[0m\u001B[0m_variable_v1_call\u001B[0m\u001B[0;34m(\u001B[0m\u001B[0;34m*\u001B[0m\u001B[0margs\u001B[0m\u001B[0;34m,\u001B[0m \u001B[0;34m**\u001B[0m\u001B[0mkwargs\u001B[0m\u001B[0;34m)\u001B[0m\u001B[0;34m\u001B[0m\u001B[0;34m\u001B[0m\u001B[0m\n\u001B[0m\u001B[1;32m    261\u001B[0m     \u001B[0;32melif\u001B[0m \u001B[0mcls\u001B[0m \u001B[0;32mis\u001B[0m \u001B[0mVariable\u001B[0m\u001B[0;34m:\u001B[0m\u001B[0;34m\u001B[0m\u001B[0;34m\u001B[0m\u001B[0m\n\u001B[1;32m    262\u001B[0m       \u001B[0;32mreturn\u001B[0m \u001B[0mcls\u001B[0m\u001B[0;34m.\u001B[0m\u001B[0m_variable_v2_call\u001B[0m\u001B[0;34m(\u001B[0m\u001B[0;34m*\u001B[0m\u001B[0margs\u001B[0m\u001B[0;34m,\u001B[0m \u001B[0;34m**\u001B[0m\u001B[0mkwargs\u001B[0m\u001B[0;34m)\u001B[0m\u001B[0;34m\u001B[0m\u001B[0;34m\u001B[0m\u001B[0m\n",
      "\u001B[0;32m/anaconda/envs/azureml_py36/lib/python3.6/site-packages/tensorflow/python/ops/variables.py\u001B[0m in \u001B[0;36m_variable_v1_call\u001B[0;34m(cls, initial_value, trainable, collections, validate_shape, caching_device, name, variable_def, dtype, expected_shape, import_scope, constraint, use_resource, synchronization, aggregation, shape)\u001B[0m\n\u001B[1;32m    219\u001B[0m         \u001B[0msynchronization\u001B[0m\u001B[0;34m=\u001B[0m\u001B[0msynchronization\u001B[0m\u001B[0;34m,\u001B[0m\u001B[0;34m\u001B[0m\u001B[0;34m\u001B[0m\u001B[0m\n\u001B[1;32m    220\u001B[0m         \u001B[0maggregation\u001B[0m\u001B[0;34m=\u001B[0m\u001B[0maggregation\u001B[0m\u001B[0;34m,\u001B[0m\u001B[0;34m\u001B[0m\u001B[0;34m\u001B[0m\u001B[0m\n\u001B[0;32m--> 221\u001B[0;31m         shape=shape)\n\u001B[0m\u001B[1;32m    222\u001B[0m \u001B[0;34m\u001B[0m\u001B[0m\n\u001B[1;32m    223\u001B[0m   def _variable_v2_call(cls,\n",
      "\u001B[0;32m/anaconda/envs/azureml_py36/lib/python3.6/site-packages/tensorflow/python/ops/variables.py\u001B[0m in \u001B[0;36m<lambda>\u001B[0;34m(**kwargs)\u001B[0m\n\u001B[1;32m    197\u001B[0m                         shape=None):\n\u001B[1;32m    198\u001B[0m     \u001B[0;34m\"\"\"Call on Variable class. Useful to force the signature.\"\"\"\u001B[0m\u001B[0;34m\u001B[0m\u001B[0;34m\u001B[0m\u001B[0m\n\u001B[0;32m--> 199\u001B[0;31m     \u001B[0mprevious_getter\u001B[0m \u001B[0;34m=\u001B[0m \u001B[0;32mlambda\u001B[0m \u001B[0;34m**\u001B[0m\u001B[0mkwargs\u001B[0m\u001B[0;34m:\u001B[0m \u001B[0mdefault_variable_creator\u001B[0m\u001B[0;34m(\u001B[0m\u001B[0;32mNone\u001B[0m\u001B[0;34m,\u001B[0m \u001B[0;34m**\u001B[0m\u001B[0mkwargs\u001B[0m\u001B[0;34m)\u001B[0m\u001B[0;34m\u001B[0m\u001B[0;34m\u001B[0m\u001B[0m\n\u001B[0m\u001B[1;32m    200\u001B[0m     \u001B[0;32mfor\u001B[0m \u001B[0m_\u001B[0m\u001B[0;34m,\u001B[0m \u001B[0mgetter\u001B[0m \u001B[0;32min\u001B[0m \u001B[0mops\u001B[0m\u001B[0;34m.\u001B[0m\u001B[0mget_default_graph\u001B[0m\u001B[0;34m(\u001B[0m\u001B[0;34m)\u001B[0m\u001B[0;34m.\u001B[0m\u001B[0m_variable_creator_stack\u001B[0m\u001B[0;34m:\u001B[0m  \u001B[0;31m# pylint: disable=protected-access\u001B[0m\u001B[0;34m\u001B[0m\u001B[0;34m\u001B[0m\u001B[0m\n\u001B[1;32m    201\u001B[0m       \u001B[0mprevious_getter\u001B[0m \u001B[0;34m=\u001B[0m \u001B[0m_make_getter\u001B[0m\u001B[0;34m(\u001B[0m\u001B[0mgetter\u001B[0m\u001B[0;34m,\u001B[0m \u001B[0mprevious_getter\u001B[0m\u001B[0;34m)\u001B[0m\u001B[0;34m\u001B[0m\u001B[0;34m\u001B[0m\u001B[0m\n",
      "\u001B[0;32m/anaconda/envs/azureml_py36/lib/python3.6/site-packages/tensorflow/python/ops/variable_scope.py\u001B[0m in \u001B[0;36mdefault_variable_creator\u001B[0;34m(next_creator, **kwargs)\u001B[0m\n\u001B[1;32m   2595\u001B[0m         \u001B[0msynchronization\u001B[0m\u001B[0;34m=\u001B[0m\u001B[0msynchronization\u001B[0m\u001B[0;34m,\u001B[0m\u001B[0;34m\u001B[0m\u001B[0;34m\u001B[0m\u001B[0m\n\u001B[1;32m   2596\u001B[0m         \u001B[0maggregation\u001B[0m\u001B[0;34m=\u001B[0m\u001B[0maggregation\u001B[0m\u001B[0;34m,\u001B[0m\u001B[0;34m\u001B[0m\u001B[0;34m\u001B[0m\u001B[0m\n\u001B[0;32m-> 2597\u001B[0;31m         shape=shape)\n\u001B[0m\u001B[1;32m   2598\u001B[0m   \u001B[0;32melse\u001B[0m\u001B[0;34m:\u001B[0m\u001B[0;34m\u001B[0m\u001B[0;34m\u001B[0m\u001B[0m\n\u001B[1;32m   2599\u001B[0m     return variables.RefVariable(\n",
      "\u001B[0;32m/anaconda/envs/azureml_py36/lib/python3.6/site-packages/tensorflow/python/ops/variables.py\u001B[0m in \u001B[0;36m__call__\u001B[0;34m(cls, *args, **kwargs)\u001B[0m\n\u001B[1;32m    262\u001B[0m       \u001B[0;32mreturn\u001B[0m \u001B[0mcls\u001B[0m\u001B[0;34m.\u001B[0m\u001B[0m_variable_v2_call\u001B[0m\u001B[0;34m(\u001B[0m\u001B[0;34m*\u001B[0m\u001B[0margs\u001B[0m\u001B[0;34m,\u001B[0m \u001B[0;34m**\u001B[0m\u001B[0mkwargs\u001B[0m\u001B[0;34m)\u001B[0m\u001B[0;34m\u001B[0m\u001B[0;34m\u001B[0m\u001B[0m\n\u001B[1;32m    263\u001B[0m     \u001B[0;32melse\u001B[0m\u001B[0;34m:\u001B[0m\u001B[0;34m\u001B[0m\u001B[0;34m\u001B[0m\u001B[0m\n\u001B[0;32m--> 264\u001B[0;31m       \u001B[0;32mreturn\u001B[0m \u001B[0msuper\u001B[0m\u001B[0;34m(\u001B[0m\u001B[0mVariableMetaclass\u001B[0m\u001B[0;34m,\u001B[0m \u001B[0mcls\u001B[0m\u001B[0;34m)\u001B[0m\u001B[0;34m.\u001B[0m\u001B[0m__call__\u001B[0m\u001B[0;34m(\u001B[0m\u001B[0;34m*\u001B[0m\u001B[0margs\u001B[0m\u001B[0;34m,\u001B[0m \u001B[0;34m**\u001B[0m\u001B[0mkwargs\u001B[0m\u001B[0;34m)\u001B[0m\u001B[0;34m\u001B[0m\u001B[0;34m\u001B[0m\u001B[0m\n\u001B[0m\u001B[1;32m    265\u001B[0m \u001B[0;34m\u001B[0m\u001B[0m\n\u001B[1;32m    266\u001B[0m \u001B[0;34m\u001B[0m\u001B[0m\n",
      "\u001B[0;32m/anaconda/envs/azureml_py36/lib/python3.6/site-packages/tensorflow/python/ops/resource_variable_ops.py\u001B[0m in \u001B[0;36m__init__\u001B[0;34m(self, initial_value, trainable, collections, validate_shape, caching_device, name, dtype, variable_def, import_scope, constraint, distribute_strategy, synchronization, aggregation, shape)\u001B[0m\n\u001B[1;32m   1516\u001B[0m           \u001B[0maggregation\u001B[0m\u001B[0;34m=\u001B[0m\u001B[0maggregation\u001B[0m\u001B[0;34m,\u001B[0m\u001B[0;34m\u001B[0m\u001B[0;34m\u001B[0m\u001B[0m\n\u001B[1;32m   1517\u001B[0m           \u001B[0mshape\u001B[0m\u001B[0;34m=\u001B[0m\u001B[0mshape\u001B[0m\u001B[0;34m,\u001B[0m\u001B[0;34m\u001B[0m\u001B[0;34m\u001B[0m\u001B[0m\n\u001B[0;32m-> 1518\u001B[0;31m           distribute_strategy=distribute_strategy)\n\u001B[0m\u001B[1;32m   1519\u001B[0m \u001B[0;34m\u001B[0m\u001B[0m\n\u001B[1;32m   1520\u001B[0m   def _init_from_args(self,\n",
      "\u001B[0;32m/anaconda/envs/azureml_py36/lib/python3.6/site-packages/tensorflow/python/ops/resource_variable_ops.py\u001B[0m in \u001B[0;36m_init_from_args\u001B[0;34m(self, initial_value, trainable, collections, caching_device, name, dtype, constraint, synchronization, aggregation, distribute_strategy, shape)\u001B[0m\n\u001B[1;32m   1649\u001B[0m           \u001B[0;32mwith\u001B[0m \u001B[0mops\u001B[0m\u001B[0;34m.\u001B[0m\u001B[0mname_scope\u001B[0m\u001B[0;34m(\u001B[0m\u001B[0;34m\"Initializer\"\u001B[0m\u001B[0;34m)\u001B[0m\u001B[0;34m,\u001B[0m \u001B[0mdevice_context_manager\u001B[0m\u001B[0;34m(\u001B[0m\u001B[0;32mNone\u001B[0m\u001B[0;34m)\u001B[0m\u001B[0;34m:\u001B[0m\u001B[0;34m\u001B[0m\u001B[0;34m\u001B[0m\u001B[0m\n\u001B[1;32m   1650\u001B[0m             initial_value = ops.convert_to_tensor(\n\u001B[0;32m-> 1651\u001B[0;31m                 \u001B[0minitial_value\u001B[0m\u001B[0;34m(\u001B[0m\u001B[0;34m)\u001B[0m \u001B[0;32mif\u001B[0m \u001B[0minit_from_fn\u001B[0m \u001B[0;32melse\u001B[0m \u001B[0minitial_value\u001B[0m\u001B[0;34m,\u001B[0m\u001B[0;34m\u001B[0m\u001B[0;34m\u001B[0m\u001B[0m\n\u001B[0m\u001B[1;32m   1652\u001B[0m                 name=\"initial_value\", dtype=dtype)\n\u001B[1;32m   1653\u001B[0m           \u001B[0;32mif\u001B[0m \u001B[0mshape\u001B[0m \u001B[0;32mis\u001B[0m \u001B[0;32mnot\u001B[0m \u001B[0;32mNone\u001B[0m\u001B[0;34m:\u001B[0m\u001B[0;34m\u001B[0m\u001B[0;34m\u001B[0m\u001B[0m\n",
      "\u001B[0;32m/anaconda/envs/azureml_py36/lib/python3.6/site-packages/tensorflow/python/keras/initializers/initializers_v2.py\u001B[0m in \u001B[0;36m__call__\u001B[0;34m(self, shape, dtype)\u001B[0m\n\u001B[1;32m    395\u001B[0m        \u001B[0;34m(\u001B[0m\u001B[0mvia\u001B[0m\u001B[0;31m \u001B[0m\u001B[0;31m`\u001B[0m\u001B[0mtf\u001B[0m\u001B[0;34m.\u001B[0m\u001B[0mkeras\u001B[0m\u001B[0;34m.\u001B[0m\u001B[0mbackend\u001B[0m\u001B[0;34m.\u001B[0m\u001B[0mset_floatx\u001B[0m\u001B[0;34m(\u001B[0m\u001B[0mfloat_dtype\u001B[0m\u001B[0;34m)\u001B[0m\u001B[0;31m`\u001B[0m\u001B[0;34m)\u001B[0m\u001B[0;34m\u001B[0m\u001B[0;34m\u001B[0m\u001B[0m\n\u001B[1;32m    396\u001B[0m     \"\"\"\n\u001B[0;32m--> 397\u001B[0;31m     \u001B[0;32mreturn\u001B[0m \u001B[0msuper\u001B[0m\u001B[0;34m(\u001B[0m\u001B[0mVarianceScaling\u001B[0m\u001B[0;34m,\u001B[0m \u001B[0mself\u001B[0m\u001B[0;34m)\u001B[0m\u001B[0;34m.\u001B[0m\u001B[0m__call__\u001B[0m\u001B[0;34m(\u001B[0m\u001B[0mshape\u001B[0m\u001B[0;34m,\u001B[0m \u001B[0mdtype\u001B[0m\u001B[0;34m=\u001B[0m\u001B[0m_get_dtype\u001B[0m\u001B[0;34m(\u001B[0m\u001B[0mdtype\u001B[0m\u001B[0;34m)\u001B[0m\u001B[0;34m)\u001B[0m\u001B[0;34m\u001B[0m\u001B[0;34m\u001B[0m\u001B[0m\n\u001B[0m\u001B[1;32m    398\u001B[0m \u001B[0;34m\u001B[0m\u001B[0m\n\u001B[1;32m    399\u001B[0m \u001B[0;34m\u001B[0m\u001B[0m\n",
      "\u001B[0;32m/anaconda/envs/azureml_py36/lib/python3.6/site-packages/tensorflow/python/ops/init_ops_v2.py\u001B[0m in \u001B[0;36m__call__\u001B[0;34m(self, shape, dtype)\u001B[0m\n\u001B[1;32m    559\u001B[0m     \u001B[0;32melse\u001B[0m\u001B[0;34m:\u001B[0m\u001B[0;34m\u001B[0m\u001B[0;34m\u001B[0m\u001B[0m\n\u001B[1;32m    560\u001B[0m       \u001B[0mlimit\u001B[0m \u001B[0;34m=\u001B[0m \u001B[0mmath\u001B[0m\u001B[0;34m.\u001B[0m\u001B[0msqrt\u001B[0m\u001B[0;34m(\u001B[0m\u001B[0;36m3.0\u001B[0m \u001B[0;34m*\u001B[0m \u001B[0mscale\u001B[0m\u001B[0;34m)\u001B[0m\u001B[0;34m\u001B[0m\u001B[0;34m\u001B[0m\u001B[0m\n\u001B[0;32m--> 561\u001B[0;31m       \u001B[0;32mreturn\u001B[0m \u001B[0mself\u001B[0m\u001B[0;34m.\u001B[0m\u001B[0m_random_generator\u001B[0m\u001B[0;34m.\u001B[0m\u001B[0mrandom_uniform\u001B[0m\u001B[0;34m(\u001B[0m\u001B[0mshape\u001B[0m\u001B[0;34m,\u001B[0m \u001B[0;34m-\u001B[0m\u001B[0mlimit\u001B[0m\u001B[0;34m,\u001B[0m \u001B[0mlimit\u001B[0m\u001B[0;34m,\u001B[0m \u001B[0mdtype\u001B[0m\u001B[0;34m)\u001B[0m\u001B[0;34m\u001B[0m\u001B[0;34m\u001B[0m\u001B[0m\n\u001B[0m\u001B[1;32m    562\u001B[0m \u001B[0;34m\u001B[0m\u001B[0m\n\u001B[1;32m    563\u001B[0m   \u001B[0;32mdef\u001B[0m \u001B[0mget_config\u001B[0m\u001B[0;34m(\u001B[0m\u001B[0mself\u001B[0m\u001B[0;34m)\u001B[0m\u001B[0;34m:\u001B[0m\u001B[0;34m\u001B[0m\u001B[0;34m\u001B[0m\u001B[0m\n",
      "\u001B[0;32m/anaconda/envs/azureml_py36/lib/python3.6/site-packages/tensorflow/python/ops/init_ops_v2.py\u001B[0m in \u001B[0;36mrandom_uniform\u001B[0;34m(self, shape, minval, maxval, dtype)\u001B[0m\n\u001B[1;32m   1042\u001B[0m       \u001B[0mop\u001B[0m \u001B[0;34m=\u001B[0m \u001B[0mrandom_ops\u001B[0m\u001B[0;34m.\u001B[0m\u001B[0mrandom_uniform\u001B[0m\u001B[0;34m\u001B[0m\u001B[0;34m\u001B[0m\u001B[0m\n\u001B[1;32m   1043\u001B[0m     return op(\n\u001B[0;32m-> 1044\u001B[0;31m         shape=shape, minval=minval, maxval=maxval, dtype=dtype, seed=self.seed)\n\u001B[0m\u001B[1;32m   1045\u001B[0m \u001B[0;34m\u001B[0m\u001B[0m\n\u001B[1;32m   1046\u001B[0m   \u001B[0;32mdef\u001B[0m \u001B[0mtruncated_normal\u001B[0m\u001B[0;34m(\u001B[0m\u001B[0mself\u001B[0m\u001B[0;34m,\u001B[0m \u001B[0mshape\u001B[0m\u001B[0;34m,\u001B[0m \u001B[0mmean\u001B[0m\u001B[0;34m,\u001B[0m \u001B[0mstddev\u001B[0m\u001B[0;34m,\u001B[0m \u001B[0mdtype\u001B[0m\u001B[0;34m)\u001B[0m\u001B[0;34m:\u001B[0m\u001B[0;34m\u001B[0m\u001B[0;34m\u001B[0m\u001B[0m\n",
      "\u001B[0;32m/anaconda/envs/azureml_py36/lib/python3.6/site-packages/tensorflow/python/util/dispatch.py\u001B[0m in \u001B[0;36mwrapper\u001B[0;34m(*args, **kwargs)\u001B[0m\n\u001B[1;32m    199\u001B[0m     \u001B[0;34m\"\"\"Call target, and fall back on dispatchers if there is a TypeError.\"\"\"\u001B[0m\u001B[0;34m\u001B[0m\u001B[0;34m\u001B[0m\u001B[0m\n\u001B[1;32m    200\u001B[0m     \u001B[0;32mtry\u001B[0m\u001B[0;34m:\u001B[0m\u001B[0;34m\u001B[0m\u001B[0;34m\u001B[0m\u001B[0m\n\u001B[0;32m--> 201\u001B[0;31m       \u001B[0;32mreturn\u001B[0m \u001B[0mtarget\u001B[0m\u001B[0;34m(\u001B[0m\u001B[0;34m*\u001B[0m\u001B[0margs\u001B[0m\u001B[0;34m,\u001B[0m \u001B[0;34m**\u001B[0m\u001B[0mkwargs\u001B[0m\u001B[0;34m)\u001B[0m\u001B[0;34m\u001B[0m\u001B[0;34m\u001B[0m\u001B[0m\n\u001B[0m\u001B[1;32m    202\u001B[0m     \u001B[0;32mexcept\u001B[0m \u001B[0;34m(\u001B[0m\u001B[0mTypeError\u001B[0m\u001B[0;34m,\u001B[0m \u001B[0mValueError\u001B[0m\u001B[0;34m)\u001B[0m\u001B[0;34m:\u001B[0m\u001B[0;34m\u001B[0m\u001B[0;34m\u001B[0m\u001B[0m\n\u001B[1;32m    203\u001B[0m       \u001B[0;31m# Note: convert_to_eager_tensor currently raises a ValueError, not a\u001B[0m\u001B[0;34m\u001B[0m\u001B[0;34m\u001B[0m\u001B[0;34m\u001B[0m\u001B[0m\n",
      "\u001B[0;32m/anaconda/envs/azureml_py36/lib/python3.6/site-packages/tensorflow/python/ops/random_ops.py\u001B[0m in \u001B[0;36mrandom_uniform\u001B[0;34m(shape, minval, maxval, dtype, seed, name)\u001B[0m\n\u001B[1;32m    286\u001B[0m     \u001B[0mmaxval\u001B[0m \u001B[0;34m=\u001B[0m \u001B[0;36m1\u001B[0m\u001B[0;34m\u001B[0m\u001B[0;34m\u001B[0m\u001B[0m\n\u001B[1;32m    287\u001B[0m   \u001B[0;32mwith\u001B[0m \u001B[0mops\u001B[0m\u001B[0;34m.\u001B[0m\u001B[0mname_scope\u001B[0m\u001B[0;34m(\u001B[0m\u001B[0mname\u001B[0m\u001B[0;34m,\u001B[0m \u001B[0;34m\"random_uniform\"\u001B[0m\u001B[0;34m,\u001B[0m \u001B[0;34m[\u001B[0m\u001B[0mshape\u001B[0m\u001B[0;34m,\u001B[0m \u001B[0mminval\u001B[0m\u001B[0;34m,\u001B[0m \u001B[0mmaxval\u001B[0m\u001B[0;34m]\u001B[0m\u001B[0;34m)\u001B[0m \u001B[0;32mas\u001B[0m \u001B[0mname\u001B[0m\u001B[0;34m:\u001B[0m\u001B[0;34m\u001B[0m\u001B[0;34m\u001B[0m\u001B[0m\n\u001B[0;32m--> 288\u001B[0;31m     \u001B[0mshape\u001B[0m \u001B[0;34m=\u001B[0m \u001B[0mtensor_util\u001B[0m\u001B[0;34m.\u001B[0m\u001B[0mshape_tensor\u001B[0m\u001B[0;34m(\u001B[0m\u001B[0mshape\u001B[0m\u001B[0;34m)\u001B[0m\u001B[0;34m\u001B[0m\u001B[0;34m\u001B[0m\u001B[0m\n\u001B[0m\u001B[1;32m    289\u001B[0m     \u001B[0;31m# In case of [0,1) floating results, minval and maxval is unused. We do an\u001B[0m\u001B[0;34m\u001B[0m\u001B[0;34m\u001B[0m\u001B[0;34m\u001B[0m\u001B[0m\n\u001B[1;32m    290\u001B[0m     \u001B[0;31m# `is` comparison here since this is cheaper than isinstance or  __eq__.\u001B[0m\u001B[0;34m\u001B[0m\u001B[0;34m\u001B[0m\u001B[0;34m\u001B[0m\u001B[0m\n",
      "\u001B[0;32m/anaconda/envs/azureml_py36/lib/python3.6/site-packages/tensorflow/python/framework/tensor_util.py\u001B[0m in \u001B[0;36mshape_tensor\u001B[0;34m(shape)\u001B[0m\n\u001B[1;32m   1027\u001B[0m       \u001B[0;31m# not convertible to Tensors because of mixed content.\u001B[0m\u001B[0;34m\u001B[0m\u001B[0;34m\u001B[0m\u001B[0;34m\u001B[0m\u001B[0m\n\u001B[1;32m   1028\u001B[0m       \u001B[0mshape\u001B[0m \u001B[0;34m=\u001B[0m \u001B[0mtuple\u001B[0m\u001B[0;34m(\u001B[0m\u001B[0mmap\u001B[0m\u001B[0;34m(\u001B[0m\u001B[0mtensor_shape\u001B[0m\u001B[0;34m.\u001B[0m\u001B[0mdimension_value\u001B[0m\u001B[0;34m,\u001B[0m \u001B[0mshape\u001B[0m\u001B[0;34m)\u001B[0m\u001B[0;34m)\u001B[0m\u001B[0;34m\u001B[0m\u001B[0;34m\u001B[0m\u001B[0m\n\u001B[0;32m-> 1029\u001B[0;31m   \u001B[0;32mreturn\u001B[0m \u001B[0mops\u001B[0m\u001B[0;34m.\u001B[0m\u001B[0mconvert_to_tensor\u001B[0m\u001B[0;34m(\u001B[0m\u001B[0mshape\u001B[0m\u001B[0;34m,\u001B[0m \u001B[0mdtype\u001B[0m\u001B[0;34m=\u001B[0m\u001B[0mdtype\u001B[0m\u001B[0;34m,\u001B[0m \u001B[0mname\u001B[0m\u001B[0;34m=\u001B[0m\u001B[0;34m\"shape\"\u001B[0m\u001B[0;34m)\u001B[0m\u001B[0;34m\u001B[0m\u001B[0;34m\u001B[0m\u001B[0m\n\u001B[0m\u001B[1;32m   1030\u001B[0m \u001B[0;34m\u001B[0m\u001B[0m\n\u001B[1;32m   1031\u001B[0m \u001B[0;34m\u001B[0m\u001B[0m\n",
      "\u001B[0;32m/anaconda/envs/azureml_py36/lib/python3.6/site-packages/tensorflow/python/framework/ops.py\u001B[0m in \u001B[0;36mconvert_to_tensor\u001B[0;34m(value, dtype, name, as_ref, preferred_dtype, dtype_hint, ctx, accepted_result_types)\u001B[0m\n\u001B[1;32m   1497\u001B[0m \u001B[0;34m\u001B[0m\u001B[0m\n\u001B[1;32m   1498\u001B[0m     \u001B[0;32mif\u001B[0m \u001B[0mret\u001B[0m \u001B[0;32mis\u001B[0m \u001B[0;32mNone\u001B[0m\u001B[0;34m:\u001B[0m\u001B[0;34m\u001B[0m\u001B[0;34m\u001B[0m\u001B[0m\n\u001B[0;32m-> 1499\u001B[0;31m       \u001B[0mret\u001B[0m \u001B[0;34m=\u001B[0m \u001B[0mconversion_func\u001B[0m\u001B[0;34m(\u001B[0m\u001B[0mvalue\u001B[0m\u001B[0;34m,\u001B[0m \u001B[0mdtype\u001B[0m\u001B[0;34m=\u001B[0m\u001B[0mdtype\u001B[0m\u001B[0;34m,\u001B[0m \u001B[0mname\u001B[0m\u001B[0;34m=\u001B[0m\u001B[0mname\u001B[0m\u001B[0;34m,\u001B[0m \u001B[0mas_ref\u001B[0m\u001B[0;34m=\u001B[0m\u001B[0mas_ref\u001B[0m\u001B[0;34m)\u001B[0m\u001B[0;34m\u001B[0m\u001B[0;34m\u001B[0m\u001B[0m\n\u001B[0m\u001B[1;32m   1500\u001B[0m \u001B[0;34m\u001B[0m\u001B[0m\n\u001B[1;32m   1501\u001B[0m     \u001B[0;32mif\u001B[0m \u001B[0mret\u001B[0m \u001B[0;32mis\u001B[0m \u001B[0mNotImplemented\u001B[0m\u001B[0;34m:\u001B[0m\u001B[0;34m\u001B[0m\u001B[0;34m\u001B[0m\u001B[0m\n",
      "\u001B[0;32m/anaconda/envs/azureml_py36/lib/python3.6/site-packages/tensorflow/python/framework/constant_op.py\u001B[0m in \u001B[0;36m_constant_tensor_conversion_function\u001B[0;34m(v, dtype, name, as_ref)\u001B[0m\n\u001B[1;32m    336\u001B[0m                                          as_ref=False):\n\u001B[1;32m    337\u001B[0m   \u001B[0m_\u001B[0m \u001B[0;34m=\u001B[0m \u001B[0mas_ref\u001B[0m\u001B[0;34m\u001B[0m\u001B[0;34m\u001B[0m\u001B[0m\n\u001B[0;32m--> 338\u001B[0;31m   \u001B[0;32mreturn\u001B[0m \u001B[0mconstant\u001B[0m\u001B[0;34m(\u001B[0m\u001B[0mv\u001B[0m\u001B[0;34m,\u001B[0m \u001B[0mdtype\u001B[0m\u001B[0;34m=\u001B[0m\u001B[0mdtype\u001B[0m\u001B[0;34m,\u001B[0m \u001B[0mname\u001B[0m\u001B[0;34m=\u001B[0m\u001B[0mname\u001B[0m\u001B[0;34m)\u001B[0m\u001B[0;34m\u001B[0m\u001B[0;34m\u001B[0m\u001B[0m\n\u001B[0m\u001B[1;32m    339\u001B[0m \u001B[0;34m\u001B[0m\u001B[0m\n\u001B[1;32m    340\u001B[0m \u001B[0;34m\u001B[0m\u001B[0m\n",
      "\u001B[0;32m/anaconda/envs/azureml_py36/lib/python3.6/site-packages/tensorflow/python/framework/constant_op.py\u001B[0m in \u001B[0;36mconstant\u001B[0;34m(value, dtype, shape, name)\u001B[0m\n\u001B[1;32m    262\u001B[0m   \"\"\"\n\u001B[1;32m    263\u001B[0m   return _constant_impl(value, dtype, shape, name, verify_shape=False,\n\u001B[0;32m--> 264\u001B[0;31m                         allow_broadcast=True)\n\u001B[0m\u001B[1;32m    265\u001B[0m \u001B[0;34m\u001B[0m\u001B[0m\n\u001B[1;32m    266\u001B[0m \u001B[0;34m\u001B[0m\u001B[0m\n",
      "\u001B[0;32m/anaconda/envs/azureml_py36/lib/python3.6/site-packages/tensorflow/python/framework/constant_op.py\u001B[0m in \u001B[0;36m_constant_impl\u001B[0;34m(value, dtype, shape, name, verify_shape, allow_broadcast)\u001B[0m\n\u001B[1;32m    273\u001B[0m       \u001B[0;32mwith\u001B[0m \u001B[0mtrace\u001B[0m\u001B[0;34m.\u001B[0m\u001B[0mTrace\u001B[0m\u001B[0;34m(\u001B[0m\u001B[0;34m\"tf.constant\"\u001B[0m\u001B[0;34m)\u001B[0m\u001B[0;34m:\u001B[0m\u001B[0;34m\u001B[0m\u001B[0;34m\u001B[0m\u001B[0m\n\u001B[1;32m    274\u001B[0m         \u001B[0;32mreturn\u001B[0m \u001B[0m_constant_eager_impl\u001B[0m\u001B[0;34m(\u001B[0m\u001B[0mctx\u001B[0m\u001B[0;34m,\u001B[0m \u001B[0mvalue\u001B[0m\u001B[0;34m,\u001B[0m \u001B[0mdtype\u001B[0m\u001B[0;34m,\u001B[0m \u001B[0mshape\u001B[0m\u001B[0;34m,\u001B[0m \u001B[0mverify_shape\u001B[0m\u001B[0;34m)\u001B[0m\u001B[0;34m\u001B[0m\u001B[0;34m\u001B[0m\u001B[0m\n\u001B[0;32m--> 275\u001B[0;31m     \u001B[0;32mreturn\u001B[0m \u001B[0m_constant_eager_impl\u001B[0m\u001B[0;34m(\u001B[0m\u001B[0mctx\u001B[0m\u001B[0;34m,\u001B[0m \u001B[0mvalue\u001B[0m\u001B[0;34m,\u001B[0m \u001B[0mdtype\u001B[0m\u001B[0;34m,\u001B[0m \u001B[0mshape\u001B[0m\u001B[0;34m,\u001B[0m \u001B[0mverify_shape\u001B[0m\u001B[0;34m)\u001B[0m\u001B[0;34m\u001B[0m\u001B[0;34m\u001B[0m\u001B[0m\n\u001B[0m\u001B[1;32m    276\u001B[0m \u001B[0;34m\u001B[0m\u001B[0m\n\u001B[1;32m    277\u001B[0m   \u001B[0mg\u001B[0m \u001B[0;34m=\u001B[0m \u001B[0mops\u001B[0m\u001B[0;34m.\u001B[0m\u001B[0mget_default_graph\u001B[0m\u001B[0;34m(\u001B[0m\u001B[0;34m)\u001B[0m\u001B[0;34m\u001B[0m\u001B[0;34m\u001B[0m\u001B[0m\n",
      "\u001B[0;32m/anaconda/envs/azureml_py36/lib/python3.6/site-packages/tensorflow/python/framework/constant_op.py\u001B[0m in \u001B[0;36m_constant_eager_impl\u001B[0;34m(ctx, value, dtype, shape, verify_shape)\u001B[0m\n\u001B[1;32m    298\u001B[0m \u001B[0;32mdef\u001B[0m \u001B[0m_constant_eager_impl\u001B[0m\u001B[0;34m(\u001B[0m\u001B[0mctx\u001B[0m\u001B[0;34m,\u001B[0m \u001B[0mvalue\u001B[0m\u001B[0;34m,\u001B[0m \u001B[0mdtype\u001B[0m\u001B[0;34m,\u001B[0m \u001B[0mshape\u001B[0m\u001B[0;34m,\u001B[0m \u001B[0mverify_shape\u001B[0m\u001B[0;34m)\u001B[0m\u001B[0;34m:\u001B[0m\u001B[0;34m\u001B[0m\u001B[0;34m\u001B[0m\u001B[0m\n\u001B[1;32m    299\u001B[0m   \u001B[0;34m\"\"\"Implementation of eager constant.\"\"\"\u001B[0m\u001B[0;34m\u001B[0m\u001B[0;34m\u001B[0m\u001B[0m\n\u001B[0;32m--> 300\u001B[0;31m   \u001B[0mt\u001B[0m \u001B[0;34m=\u001B[0m \u001B[0mconvert_to_eager_tensor\u001B[0m\u001B[0;34m(\u001B[0m\u001B[0mvalue\u001B[0m\u001B[0;34m,\u001B[0m \u001B[0mctx\u001B[0m\u001B[0;34m,\u001B[0m \u001B[0mdtype\u001B[0m\u001B[0;34m)\u001B[0m\u001B[0;34m\u001B[0m\u001B[0;34m\u001B[0m\u001B[0m\n\u001B[0m\u001B[1;32m    301\u001B[0m   \u001B[0;32mif\u001B[0m \u001B[0mshape\u001B[0m \u001B[0;32mis\u001B[0m \u001B[0;32mNone\u001B[0m\u001B[0;34m:\u001B[0m\u001B[0;34m\u001B[0m\u001B[0;34m\u001B[0m\u001B[0m\n\u001B[1;32m    302\u001B[0m     \u001B[0;32mreturn\u001B[0m \u001B[0mt\u001B[0m\u001B[0;34m\u001B[0m\u001B[0;34m\u001B[0m\u001B[0m\n",
      "\u001B[0;32m/anaconda/envs/azureml_py36/lib/python3.6/site-packages/tensorflow/python/framework/constant_op.py\u001B[0m in \u001B[0;36mconvert_to_eager_tensor\u001B[0;34m(value, ctx, dtype)\u001B[0m\n\u001B[1;32m     95\u001B[0m     \u001B[0;32mexcept\u001B[0m \u001B[0mAttributeError\u001B[0m\u001B[0;34m:\u001B[0m\u001B[0;34m\u001B[0m\u001B[0;34m\u001B[0m\u001B[0m\n\u001B[1;32m     96\u001B[0m       \u001B[0mdtype\u001B[0m \u001B[0;34m=\u001B[0m \u001B[0mdtypes\u001B[0m\u001B[0;34m.\u001B[0m\u001B[0mas_dtype\u001B[0m\u001B[0;34m(\u001B[0m\u001B[0mdtype\u001B[0m\u001B[0;34m)\u001B[0m\u001B[0;34m.\u001B[0m\u001B[0mas_datatype_enum\u001B[0m\u001B[0;34m\u001B[0m\u001B[0;34m\u001B[0m\u001B[0m\n\u001B[0;32m---> 97\u001B[0;31m   \u001B[0mctx\u001B[0m\u001B[0;34m.\u001B[0m\u001B[0mensure_initialized\u001B[0m\u001B[0;34m(\u001B[0m\u001B[0;34m)\u001B[0m\u001B[0;34m\u001B[0m\u001B[0;34m\u001B[0m\u001B[0m\n\u001B[0m\u001B[1;32m     98\u001B[0m   \u001B[0;32mreturn\u001B[0m \u001B[0mops\u001B[0m\u001B[0;34m.\u001B[0m\u001B[0mEagerTensor\u001B[0m\u001B[0;34m(\u001B[0m\u001B[0mvalue\u001B[0m\u001B[0;34m,\u001B[0m \u001B[0mctx\u001B[0m\u001B[0;34m.\u001B[0m\u001B[0mdevice_name\u001B[0m\u001B[0;34m,\u001B[0m \u001B[0mdtype\u001B[0m\u001B[0;34m)\u001B[0m\u001B[0;34m\u001B[0m\u001B[0;34m\u001B[0m\u001B[0m\n\u001B[1;32m     99\u001B[0m \u001B[0;34m\u001B[0m\u001B[0m\n",
      "\u001B[0;32m/anaconda/envs/azureml_py36/lib/python3.6/site-packages/tensorflow/python/eager/context.py\u001B[0m in \u001B[0;36mensure_initialized\u001B[0;34m(self)\u001B[0m\n\u001B[1;32m    537\u001B[0m         \u001B[0;32mif\u001B[0m \u001B[0mself\u001B[0m\u001B[0;34m.\u001B[0m\u001B[0m_use_tfrt\u001B[0m \u001B[0;32mis\u001B[0m \u001B[0;32mnot\u001B[0m \u001B[0;32mNone\u001B[0m\u001B[0;34m:\u001B[0m\u001B[0;34m\u001B[0m\u001B[0;34m\u001B[0m\u001B[0m\n\u001B[1;32m    538\u001B[0m           \u001B[0mpywrap_tfe\u001B[0m\u001B[0;34m.\u001B[0m\u001B[0mTFE_ContextOptionsSetTfrt\u001B[0m\u001B[0;34m(\u001B[0m\u001B[0mopts\u001B[0m\u001B[0;34m,\u001B[0m \u001B[0mself\u001B[0m\u001B[0;34m.\u001B[0m\u001B[0m_use_tfrt\u001B[0m\u001B[0;34m)\u001B[0m\u001B[0;34m\u001B[0m\u001B[0;34m\u001B[0m\u001B[0m\n\u001B[0;32m--> 539\u001B[0;31m         \u001B[0mcontext_handle\u001B[0m \u001B[0;34m=\u001B[0m \u001B[0mpywrap_tfe\u001B[0m\u001B[0;34m.\u001B[0m\u001B[0mTFE_NewContext\u001B[0m\u001B[0;34m(\u001B[0m\u001B[0mopts\u001B[0m\u001B[0;34m)\u001B[0m\u001B[0;34m\u001B[0m\u001B[0;34m\u001B[0m\u001B[0m\n\u001B[0m\u001B[1;32m    540\u001B[0m       \u001B[0;32mfinally\u001B[0m\u001B[0;34m:\u001B[0m\u001B[0;34m\u001B[0m\u001B[0;34m\u001B[0m\u001B[0m\n\u001B[1;32m    541\u001B[0m         \u001B[0mpywrap_tfe\u001B[0m\u001B[0;34m.\u001B[0m\u001B[0mTFE_DeleteContextOptions\u001B[0m\u001B[0;34m(\u001B[0m\u001B[0mopts\u001B[0m\u001B[0;34m)\u001B[0m\u001B[0;34m\u001B[0m\u001B[0;34m\u001B[0m\u001B[0m\n",
      "\u001B[0;31mKeyboardInterrupt\u001B[0m: "
     ]
    }
   ],
   "source": [
    "methods = ['NN', 'GMN', 'OT non greedy', 'OT greedy', 'GW']\n",
    "\n",
    "\n",
    "sigmas = np.array([0.0, 0.5, 1.0, 1.5, 2.0, 2.5, 3.0, 3.5, 4.0])\n",
    "\n",
    "\n",
    "for i in range(len(methods)):\n",
    "    for k in range(len(sigmas)):\n",
    "        method, sigma = methods[i], sigmas[k]\n",
    "        print(method, sigma)\n",
    "        \n",
    "        acc_tests = train_on_matching(methods[i], sigmas[k], model_choice = 'mobilenetv2')\n",
    "\n",
    "        df_sup = pd.DataFrame()\n",
    "        df_sup['sigma'] = [sigmas[k]]*5\n",
    "        df_sup['accuracy'] = acc_tests\n",
    "        df_sup['method'] = [methods[i]]*5\n",
    "        df_sup['test'] = [1, 2, 3, 4, 5]\n",
    "        df_sup.to_csv('cnn/results_mobilenetv2/res_{}_sigma_{}_mobilenetv2.csv'.format(methods[i], sigmas[k]))\n",
    "        print(df_sup)\n"
   ]
  },
  {
   "cell_type": "code",
   "execution_count": 8,
   "metadata": {
    "collapsed": true,
    "gather": {
     "logged": 1609863792185
    },
    "jupyter": {
     "outputs_hidden": false,
     "source_hidden": false
    },
    "nteract": {
     "transient": {
      "deleting": false
     }
    }
   },
   "outputs": [
    {
     "name": "stdout",
     "output_type": "stream",
     "text": [
      "GW 0.0\n",
      "Epoch 1/5\n",
      "44/44 [==============================] - 13s 300ms/step - loss: 2.6838 - accuracy: 0.2882 - val_loss: 2.2483 - val_accuracy: 0.3178\b\b\b\b\b\b\b\b\b\b\b\b\b\b\b\b\b\b\b\b\b\b\b\b\b\b\b\b\b\b\b\b\b\b\b\b\b\b\b\b\b\n",
      "Epoch 2/5\n",
      "44/44 [==============================] - 13s 293ms/step - loss: 1.6444 - accuracy: 0.4751 - val_loss: 1.9926 - val_accuracy: 0.4211\b\b\b\b\b\b\b\b\b\b\b\b\b\b\b\b\b\b\b\b\b\b\b\b\b\b\b\b\b\b\b\b\b\n",
      "Epoch 3/5\n",
      "44/44 [==============================] - 13s 294ms/step - loss: 1.2348 - accuracy: 0.6072 - val_loss: 2.1278 - val_accuracy: 0.3583\b\b\b\b\b\b\b\b\b\b\b\b\b\b\b\b\b\b\b\b\b\b\b\b\b\b\b\b\b\b\b\b\b\n",
      "Epoch 4/5\n",
      "44/44 [==============================] - 13s 295ms/step - loss: 0.9616 - accuracy: 0.7071 - val_loss: 1.7513 - val_accuracy: 0.4615\b\b\b\b\b\b\b\b\b\b\b\b\b\b\b\b\b\b\b\b\b\b\b\b\b\b\b\b\b\b\b\b\b\b\b\n",
      "Epoch 5/5\n",
      "44/44 [==============================] - 13s 298ms/step - loss: 0.7415 - accuracy: 0.7820 - val_loss: 1.8111 - val_accuracy: 0.4393\b\b\b\b\b\b\b\b\b\b\b\b\b\b\b\b\b\b\b\b\b\b\b\b\b\b\b\b\b\b\b\b\b\b\b\n",
      "classes:  [41  3 39]\n",
      "y_test:  [41  3 39]\n",
      "Accuracy: 0.801550\n",
      "classes:  [22 45 58]\n",
      "y_test:  [41 45 58]\n",
      "Accuracy: 0.799697\n",
      "classes:  [47  8 47]\n",
      "y_test:  [47 41 47]\n",
      "Accuracy: 0.811012\n",
      "classes:  [ 0  0 12]\n",
      "y_test:  [ 0  0 12]\n",
      "Accuracy: 0.805766\n",
      "classes:  [ 0 41 45]\n",
      "y_test:  [ 0 41  0]\n",
      "Accuracy: 0.787365\n",
      "   sigma  accuracy method  test\n",
      "0    0.0  0.801550     GW     1\n",
      "1    0.0  0.799697     GW     2\n",
      "2    0.0  0.811012     GW     3\n",
      "3    0.0  0.805766     GW     4\n",
      "4    0.0  0.787365     GW     5\n",
      "GW 0.5\n",
      "Epoch 1/5\n",
      "44/44 [==============================] - 13s 302ms/step - loss: 2.6604 - accuracy: 0.2893 - val_loss: 2.1623 - val_accuracy: 0.3785\b\b\b\b\b\b\b\b\b\b\b\b\b\b\b\b\b\b\b\b\b\b\b\b\b\b\b\b\b\b\b\b\b\b\b\n",
      "Epoch 2/5\n",
      "44/44 [==============================] - 13s 296ms/step - loss: 1.6361 - accuracy: 0.4719 - val_loss: 1.9660 - val_accuracy: 0.4231\b\b\b\b\b\b\b\b\b\b\b\b\b\b\b\b\b\b\b\b\b\b\b\b\b\b\b\b\b\b\b\b\b\n",
      "Epoch 3/5\n",
      "44/44 [==============================] - 13s 297ms/step - loss: 1.2023 - accuracy: 0.6198 - val_loss: 1.9157 - val_accuracy: 0.4372\b\b\b\b\b\b\b\b\b\b\b\b\b\b\b\b\b\b\b\b\b\b\b\b\b\b\b\b\b\b\b\b\b\b\b\n",
      "Epoch 4/5\n",
      "44/44 [==============================] - 13s 298ms/step - loss: 0.9176 - accuracy: 0.7193 - val_loss: 1.8379 - val_accuracy: 0.4555\b\b\b\b\b\b\b\b\b\b\b\b\b\b\b\b\b\b\b\b\b\b\b\b\b\b\b\b\b\b\b\b\b\n",
      "Epoch 5/5\n",
      "44/44 [==============================] - 13s 296ms/step - loss: 0.6824 - accuracy: 0.8034 - val_loss: 1.8564 - val_accuracy: 0.4190\b\b\b\b\b\b\b\b\b\b\b\b\b\b\b\b\b\b\b\b\b\b\b\b\b\b\b\b\b\b\b\b\b\n",
      "classes:  [41  3 39]\n",
      "y_test:  [41  3 39]\n",
      "Accuracy: 0.804651\n",
      "classes:  [41 45 58]\n",
      "y_test:  [41 45 58]\n",
      "Accuracy: 0.790592\n",
      "classes:  [47  8 47]\n",
      "y_test:  [47 41 47]\n",
      "Accuracy: 0.811012\n",
      "classes:  [ 0  0 12]\n",
      "y_test:  [ 0  0 12]\n",
      "Accuracy: 0.801214\n",
      "classes:  [39 41  0]\n",
      "y_test:  [ 0 41  0]\n",
      "Accuracy: 0.802773\n",
      "   sigma  accuracy method  test\n",
      "0    0.5  0.804651     GW     1\n",
      "1    0.5  0.790592     GW     2\n",
      "2    0.5  0.811012     GW     3\n",
      "3    0.5  0.801214     GW     4\n",
      "4    0.5  0.802773     GW     5\n",
      "GW 1.0\n",
      "Epoch 1/5\n",
      "44/44 [==============================] - 13s 303ms/step - loss: 2.5630 - accuracy: 0.3043 - val_loss: 2.1082 - val_accuracy: 0.4170\b\b\b\b\b\b\b\b\b\b\b\b\b\b\b\b\b\b\b\b\b\b\b\b\b\b\b\b\b\b\b\b\b\b\b\n",
      "Epoch 2/5\n",
      "44/44 [==============================] - 13s 295ms/step - loss: 1.5726 - accuracy: 0.4848 - val_loss: 1.8058 - val_accuracy: 0.4636\b\b\b\b\b\b\b\b\b\b\b\b\b\b\b\b\b\b\b\b\b\b\b\b\b\b\b\b\b\b\b\b\b\b\b\n",
      "Epoch 3/5\n",
      "44/44 [==============================] - 13s 295ms/step - loss: 1.1884 - accuracy: 0.6219 - val_loss: 1.7957 - val_accuracy: 0.4474\b\b\b\b\b\b\b\b\b\b\b\b\b\b\b\b\b\b\b\b\b\b\b\b\b\b\b\b\b\b\b\b\b\n",
      "Epoch 4/5\n",
      "44/44 [==============================] - 13s 297ms/step - loss: 0.8967 - accuracy: 0.7247 - val_loss: 1.8337 - val_accuracy: 0.4109\b\b\b\b\b\b\b\b\b\b\b\b\b\b\b\b\b\b\b\b\b\b\b\b\b\b\b\b\b\b\b\b\b\b\b\n",
      "Epoch 5/5\n",
      "44/44 [==============================] - 13s 298ms/step - loss: 0.6674 - accuracy: 0.8192 - val_loss: 1.7816 - val_accuracy: 0.4494\b\b\b\b\b\b\b\b\b\b\b\b\b\b\b\b\b\b\b\b\b\b\b\b\b\b\b\b\b\b\b\b\b\b\b\n",
      "classes:  [41  3 39]\n",
      "y_test:  [41  3 39]\n",
      "Accuracy: 0.795349\n",
      "classes:  [47 45 58]\n",
      "y_test:  [41 45 58]\n",
      "Accuracy: 0.781487\n",
      "classes:  [47 41 47]\n",
      "y_test:  [47 41 47]\n",
      "Accuracy: 0.782738\n",
      "classes:  [ 0  0 12]\n",
      "y_test:  [ 0  0 12]\n",
      "Accuracy: 0.742033\n",
      "classes:  [39 41 45]\n",
      "y_test:  [ 0 41  0]\n",
      "Accuracy: 0.768875\n",
      "   sigma  accuracy method  test\n",
      "0    1.0  0.795349     GW     1\n",
      "1    1.0  0.781487     GW     2\n",
      "2    1.0  0.782738     GW     3\n",
      "3    1.0  0.742033     GW     4\n",
      "4    1.0  0.768875     GW     5\n",
      "GW 1.5\n",
      "Epoch 1/5\n",
      "44/44 [==============================] - 13s 302ms/step - loss: 2.6285 - accuracy: 0.2929 - val_loss: 3.1347 - val_accuracy: 0.2632\b\b\b\b\b\b\b\b\b\b\b\b\b\b\b\b\b\b\b\b\b\b\b\b\b\b\b\b\b\b\b\b\b\b\b\n",
      "Epoch 2/5\n",
      "44/44 [==============================] - 13s 299ms/step - loss: 1.6039 - accuracy: 0.4851 - val_loss: 1.9413 - val_accuracy: 0.3887\b\b\b\b\b\b\b\b\b\b\b\b\b\b\b\b\b\b\b\b\b\b\b\b\b\b\b\b\b\b\b\b\b\n",
      "Epoch 3/5\n",
      "44/44 [==============================] - 13s 298ms/step - loss: 1.2335 - accuracy: 0.6004 - val_loss: 1.8804 - val_accuracy: 0.3785\b\b\b\b\b\b\b\b\b\b\b\b\b\b\b\b\b\b\b\b\b\b\b\b\b\b\b\b\b\b\b\b\b\n",
      "Epoch 4/5\n",
      "44/44 [==============================] - 13s 299ms/step - loss: 0.9577 - accuracy: 0.7071 - val_loss: 1.8695 - val_accuracy: 0.3866\b\b\b\b\b\b\b\b\b\b\b\b\b\b\b\b\b\b\b\b\b\b\b\b\b\b\b\b\b\b\b\b\b\b\b\n",
      "Epoch 5/5\n",
      "44/44 [==============================] - 13s 301ms/step - loss: 0.7191 - accuracy: 0.7909 - val_loss: 1.8280 - val_accuracy: 0.4271\b\b\b\b\b\b\b\b\b\b\b\b\b\b\b\b\b\b\b\b\b\b\b\b\b\b\b\b\b\b\b\b\b\b\b\n",
      "classes:  [41  3  0]\n",
      "y_test:  [41  3 39]\n",
      "Accuracy: 0.719380\n",
      "classes:  [ 3 45 58]\n",
      "y_test:  [41 45 58]\n",
      "Accuracy: 0.678300\n",
      "classes:  [47 47 47]\n",
      "y_test:  [47 41 47]\n",
      "Accuracy: 0.693452\n",
      "classes:  [ 0  0 12]\n",
      "y_test:  [ 0  0 12]\n",
      "Accuracy: 0.691958\n",
      "classes:  [39 41 45]\n",
      "y_test:  [ 0 41  0]\n",
      "Accuracy: 0.690293\n",
      "   sigma  accuracy method  test\n",
      "0    1.5  0.719380     GW     1\n",
      "1    1.5  0.678300     GW     2\n",
      "2    1.5  0.693452     GW     3\n",
      "3    1.5  0.691958     GW     4\n",
      "4    1.5  0.690293     GW     5\n",
      "GW 2.0\n",
      "Epoch 1/5\n",
      "44/44 [==============================] - 13s 301ms/step - loss: 2.7042 - accuracy: 0.2839 - val_loss: 2.3648 - val_accuracy: 0.2915\b\b\b\b\b\b\b\b\b\b\b\b\b\b\b\b\b\b\b\b\b\b\b\b\b\b\b\b\b\b\b\b\b\b\b\n",
      "Epoch 2/5\n",
      "44/44 [==============================] - 13s 295ms/step - loss: 1.6437 - accuracy: 0.4780 - val_loss: 1.9922 - val_accuracy: 0.3968\b\b\b\b\b\b\b\b\b\b\b\b\b\b\b\b\b\b\b\b\b\b\b\b\b\b\b\b\b\b\b\b\b\n",
      "Epoch 3/5\n",
      "44/44 [==============================] - 13s 296ms/step - loss: 1.1919 - accuracy: 0.6223 - val_loss: 1.8137 - val_accuracy: 0.4453\b\b\b\b\b\b\b\b\b\b\b\b\b\b\b\b\b\b\b\b\b\b\b\b\b\b\b\b\b\b\b\b\b\b\b\n",
      "Epoch 4/5\n",
      "44/44 [==============================] - 13s 296ms/step - loss: 0.9173 - accuracy: 0.7197 - val_loss: 1.7539 - val_accuracy: 0.4636\b\b\b\b\b\b\b\b\b\b\b\b\b\b\b\b\b\b\b\b\b\b\b\b\b\b\b\b\b\b\b\b\b\n",
      "Epoch 5/5\n",
      "44/44 [==============================] - 13s 299ms/step - loss: 0.6627 - accuracy: 0.8260 - val_loss: 1.9017 - val_accuracy: 0.3846\b\b\b\b\b\b\b\b\b\b\b\b\b\b\b\b\b\b\b\b\b\b\b\b\b\b\b\b\b\b\b\b\b\b\b\n",
      "classes:  [41  3  0]\n",
      "y_test:  [41  3 39]\n",
      "Accuracy: 0.666667\n",
      "classes:  [ 3 45 58]\n",
      "y_test:  [41 45 58]\n",
      "Accuracy: 0.652504\n",
      "classes:  [47  8 47]\n",
      "y_test:  [47 41 47]\n",
      "Accuracy: 0.656250\n",
      "classes:  [ 0  0 12]\n",
      "y_test:  [ 0  0 12]\n",
      "Accuracy: 0.658574\n",
      "classes:  [41 41 58]\n",
      "y_test:  [ 0 41  0]\n",
      "Accuracy: 0.673344\n",
      "   sigma  accuracy method  test\n",
      "0    2.0  0.666667     GW     1\n",
      "1    2.0  0.652504     GW     2\n",
      "2    2.0  0.656250     GW     3\n",
      "3    2.0  0.658574     GW     4\n",
      "4    2.0  0.673344     GW     5\n",
      "GW 2.5\n",
      "Epoch 1/5\n",
      "44/44 [==============================] - 13s 304ms/step - loss: 2.6235 - accuracy: 0.2911 - val_loss: 2.1358 - val_accuracy: 0.3441\b\b\b\b\b\b\b\b\b\b\b\b\b\b\b\b\b\b\b\b\b\b\b\b\b\b\b\b\b\b\b\b\b\b\b\n",
      "Epoch 2/5\n",
      "44/44 [==============================] - 13s 298ms/step - loss: 1.5846 - accuracy: 0.4773 - val_loss: 1.8920 - val_accuracy: 0.4089\b\b\b\b\b\b\b\b\b\b\b\b\b\b\b\b\b\b\b\b\b\b\b\b\b\b\b\b\b\b\b\b\b\n",
      "Epoch 3/5\n",
      "44/44 [==============================] - 13s 299ms/step - loss: 1.1770 - accuracy: 0.6230 - val_loss: 1.8422 - val_accuracy: 0.4211\b\b\b\b\b\b\b\b\b\b\b\b\b\b\b\b\b\b\b\b\b\b\b\b\b\b\b\b\b\b\b\b\b\b\b\n",
      "Epoch 4/5\n",
      "44/44 [==============================] - 13s 297ms/step - loss: 0.9015 - accuracy: 0.7200 - val_loss: 1.8411 - val_accuracy: 0.4271\b\b\b\b\b\b\b\b\b\b\b\b\b\b\b\b\b\b\b\b\b\b\b\b\b\b\b\b\b\b\b\b\b\b\b\n",
      "Epoch 5/5\n",
      "44/44 [==============================] - 13s 297ms/step - loss: 0.6650 - accuracy: 0.8102 - val_loss: 1.9415 - val_accuracy: 0.4130\b\b\b\b\b\b\b\b\b\b\b\b\b\b\b\b\b\b\b\b\b\b\b\b\b\b\b\b\b\b\b\b\b\b\b\n",
      "classes:  [41  3  0]\n",
      "y_test:  [41  3 39]\n",
      "Accuracy: 0.657364\n",
      "classes:  [41 45 58]\n",
      "y_test:  [41 45 58]\n",
      "Accuracy: 0.611533\n",
      "classes:  [47 41 47]\n",
      "y_test:  [47 41 47]\n",
      "Accuracy: 0.626488\n",
      "classes:  [41  0 12]\n",
      "y_test:  [ 0  0 12]\n",
      "Accuracy: 0.654021\n",
      "classes:  [ 0 41 58]\n",
      "y_test:  [ 0 41  0]\n",
      "Accuracy: 0.616333\n",
      "   sigma  accuracy method  test\n",
      "0    2.5  0.657364     GW     1\n",
      "1    2.5  0.611533     GW     2\n",
      "2    2.5  0.626488     GW     3\n",
      "3    2.5  0.654021     GW     4\n",
      "4    2.5  0.616333     GW     5\n",
      "GW 3.0\n",
      "Epoch 1/5\n",
      "44/44 [==============================] - 13s 304ms/step - loss: 2.6153 - accuracy: 0.2843 - val_loss: 2.5908 - val_accuracy: 0.2915\b\b\b\b\b\b\b\b\b\b\b\b\b\b\b\b\b\b\b\b\b\b\b\b\b\b\b\b\b\b\b\b\b\b\b\n",
      "Epoch 2/5\n",
      "44/44 [==============================] - 13s 298ms/step - loss: 1.6601 - accuracy: 0.4705 - val_loss: 2.0475 - val_accuracy: 0.3644\b\b\b\b\b\b\b\b\b\b\b\b\b\b\b\b\b\b\b\b\b\b\b\b\b\b\b\b\b\b\b\b\b\n",
      "Epoch 3/5\n",
      "44/44 [==============================] - 13s 296ms/step - loss: 1.2623 - accuracy: 0.6004 - val_loss: 2.1508 - val_accuracy: 0.3704\b\b\b\b\b\b\b\b\b\b\b\b\b\b\b\b\b\b\b\b\b\b\b\b\b\b\b\b\b\b\b\b\b\b\b\n",
      "Epoch 4/5\n",
      "44/44 [==============================] - 13s 299ms/step - loss: 0.9665 - accuracy: 0.6985 - val_loss: 1.9377 - val_accuracy: 0.3623\b\b\b\b\b\b\b\b\b\b\b\b\b\b\b\b\b\b\b\b\b\b\b\b\b\b\b\b\b\b\b\b\b\b\b\n",
      "Epoch 5/5\n",
      "44/44 [==============================] - 13s 298ms/step - loss: 0.6968 - accuracy: 0.8059 - val_loss: 1.9112 - val_accuracy: 0.3947\b\b\b\b\b\b\b\b\b\b\b\b\b\b\b\b\b\b\b\b\b\b\b\b\b\b\b\b\b\b\b\b\b\b\b\n",
      "classes:  [41  3 41]\n",
      "y_test:  [41  3 39]\n",
      "Accuracy: 0.606202\n",
      "classes:  [ 3 45 58]\n",
      "y_test:  [41 45 58]\n",
      "Accuracy: 0.646434\n",
      "classes:  [47  8 47]\n",
      "y_test:  [47 41 47]\n",
      "Accuracy: 0.610119\n",
      "classes:  [ 0  0 12]\n",
      "y_test:  [ 0  0 12]\n",
      "Accuracy: 0.606980\n",
      "classes:  [41 41 58]\n",
      "y_test:  [ 0 41  0]\n",
      "Accuracy: 0.644068\n",
      "   sigma  accuracy method  test\n",
      "0    3.0  0.606202     GW     1\n",
      "1    3.0  0.646434     GW     2\n",
      "2    3.0  0.610119     GW     3\n",
      "3    3.0  0.606980     GW     4\n",
      "4    3.0  0.644068     GW     5\n",
      "GW 3.5\n",
      "Epoch 1/5\n",
      "44/44 [==============================] - 13s 302ms/step - loss: 2.5638 - accuracy: 0.3076 - val_loss: 2.2876 - val_accuracy: 0.3117\b\b\b\b\b\b\b\b\b\b\b\b\b\b\b\b\b\b\b\b\b\b\b\b\b\b\b\b\b\b\b\b\b\b\b\n",
      "Epoch 2/5\n",
      "44/44 [==============================] - 13s 296ms/step - loss: 1.6145 - accuracy: 0.4776 - val_loss: 1.9700 - val_accuracy: 0.3765\b\b\b\b\b\b\b\b\b\b\b\b\b\b\b\b\b\b\b\b\b\b\b\b\b\b\b\b\b\b\b\b\b\b\b\n",
      "Epoch 3/5\n",
      "44/44 [==============================] - 13s 298ms/step - loss: 1.2670 - accuracy: 0.5843 - val_loss: 1.9361 - val_accuracy: 0.4251\b\b\b\b\b\b\b\b\b\b\b\b\b\b\b\b\b\b\b\b\b\b\b\b\b\b\b\b\b\b\b\b\b\b\b\n",
      "Epoch 4/5\n",
      "44/44 [==============================] - 13s 297ms/step - loss: 0.9672 - accuracy: 0.7014 - val_loss: 1.9594 - val_accuracy: 0.3968\b\b\b\b\b\b\b\b\b\b\b\b\b\b\b\b\b\b\b\b\b\b\b\b\b\b\b\b\b\b\b\b\b\b\b\n",
      "Epoch 5/5\n",
      "44/44 [==============================] - 13s 295ms/step - loss: 0.7279 - accuracy: 0.7938 - val_loss: 1.9563 - val_accuracy: 0.3846\b\b\b\b\b\b\b\b\b\b\b\b\b\b\b\b\b\b\b\b\b\b\b\b\b\b\b\b\b\b\b\b\b\n",
      "classes:  [41 47  0]\n",
      "y_test:  [41  3 39]\n",
      "Accuracy: 0.593798\n",
      "classes:  [ 3 45  0]\n",
      "y_test:  [41 45 58]\n",
      "Accuracy: 0.600910\n",
      "classes:  [41 41 47]\n",
      "y_test:  [47 41 47]\n",
      "Accuracy: 0.566964\n",
      "classes:  [ 0  0 12]\n",
      "y_test:  [ 0  0 12]\n",
      "Accuracy: 0.558422\n",
      "classes:  [ 0 41 58]\n",
      "y_test:  [ 0 41  0]\n",
      "Accuracy: 0.619414\n",
      "   sigma  accuracy method  test\n",
      "0    3.5  0.593798     GW     1\n",
      "1    3.5  0.600910     GW     2\n",
      "2    3.5  0.566964     GW     3\n",
      "3    3.5  0.558422     GW     4\n",
      "4    3.5  0.619414     GW     5\n"
     ]
    },
    {
     "name": "stderr",
     "output_type": "stream",
     "text": [
      "WARNING - Callbacks method `on_train_batch_end` is slow compared to the batch time (batch time: 0.1064s vs `on_train_batch_end` time: 0.1752s). Check your callbacks.\n",
      "WARNING - Callbacks method `on_train_batch_end` is slow compared to the batch time (batch time: 0.1067s vs `on_train_batch_end` time: 0.1754s). Check your callbacks.\n",
      "WARNING - Callbacks method `on_train_batch_end` is slow compared to the batch time (batch time: 0.1067s vs `on_train_batch_end` time: 0.1753s). Check your callbacks.\n",
      "WARNING - Callbacks method `on_train_batch_end` is slow compared to the batch time (batch time: 0.1087s vs `on_train_batch_end` time: 0.1767s). Check your callbacks.\n",
      "WARNING - Callbacks method `on_train_batch_end` is slow compared to the batch time (batch time: 0.1133s vs `on_train_batch_end` time: 0.1761s). Check your callbacks.\n",
      "WARNING - Callbacks method `on_train_batch_end` is slow compared to the batch time (batch time: 0.1107s vs `on_train_batch_end` time: 0.1754s). Check your callbacks.\n",
      "WARNING - Callbacks method `on_train_batch_end` is slow compared to the batch time (batch time: 0.1092s vs `on_train_batch_end` time: 0.1742s). Check your callbacks.\n"
     ]
    }
   ],
   "source": [
    "methods = ['NN', 'GMN', 'OT non greedy', 'OT greedy', 'GW']\n",
    "\n",
    "sigmas = np.array([0.0, 0.5, 1.0, 1.5, 2.0, 2.5, 3.0, 3.5])\n",
    "\n",
    "\n",
    "for i in range(len(methods)):\n",
    "    for k in range(len(sigmas)):\n",
    "        method, sigma = methods[i], sigmas[k]\n",
    "        print(method, sigma)\n",
    "        \n",
    "        acc_tests = train_on_matching(methods[i], sigmas[k], model_choice = 'basic')\n",
    "\n",
    "        df_sup = pd.DataFrame()\n",
    "        df_sup['sigma'] = [sigmas[k]]*5\n",
    "        df_sup['accuracy'] = acc_tests\n",
    "        df_sup['method'] = [methods[i]]*5\n",
    "        df_sup['test'] = [1, 2, 3, 4, 5]\n",
    "        df_sup.to_csv('cnn/results_basic/res_{}_sigma_{}_basic.csv'.format(methods[i], sigmas[k]))\n",
    "        print(df_sup)"
   ]
  },
  {
   "cell_type": "code",
   "execution_count": 9,
   "metadata": {
    "collapsed": true,
    "gather": {
     "logged": 1609864073391
    },
    "jupyter": {
     "outputs_hidden": false,
     "source_hidden": false
    },
    "nteract": {
     "transient": {
      "deleting": false
     }
    }
   },
   "outputs": [
    {
     "name": "stdout",
     "output_type": "stream",
     "text": [
      "res_GMN_sigma_0.0_basic.csv\n",
      "res_GMN_sigma_0.5_basic.csv\n",
      "res_GMN_sigma_1.0_basic.csv\n",
      "res_GMN_sigma_1.5_basic.csv\n",
      "res_GMN_sigma_2.0_basic.csv\n",
      "res_GMN_sigma_2.5_basic.csv\n",
      "res_GMN_sigma_3.0_basic.csv\n",
      "res_GMN_sigma_3.5_basic.csv\n",
      "res_GMN_sigma_4.0_basic.csv\n",
      "res_GW_sigma_0.0_basic.csv\n",
      "res_GW_sigma_0.5_basic.csv\n",
      "res_GW_sigma_1.0_basic.csv\n",
      "res_GW_sigma_1.5_basic.csv\n",
      "res_GW_sigma_2.0_basic.csv\n",
      "res_GW_sigma_2.5_basic.csv\n",
      "res_GW_sigma_3.0_basic.csv\n",
      "res_GW_sigma_3.5_basic.csv\n",
      "res_GW_sigma_4.0_basic.csv\n",
      "res_NN_sigma_0.0_basic.csv\n",
      "res_NN_sigma_0.5_basic.csv\n",
      "res_NN_sigma_1.0_basic.csv\n",
      "res_NN_sigma_1.5_basic.csv\n",
      "res_NN_sigma_2.0_basic.csv\n",
      "res_NN_sigma_2.5_basic.csv\n",
      "res_NN_sigma_3.0_basic.csv\n",
      "res_NN_sigma_3.5_basic.csv\n",
      "res_NN_sigma_4.0_basic.csv\n",
      "res_OT greedy_sigma_0.0_basic.csv\n",
      "res_OT greedy_sigma_0.5_basic.csv\n",
      "res_OT greedy_sigma_1.0_basic.csv\n",
      "res_OT greedy_sigma_1.5_basic.csv\n",
      "res_OT greedy_sigma_2.0_basic.csv\n",
      "res_OT greedy_sigma_2.5_basic.csv\n",
      "res_OT greedy_sigma_3.0_basic.csv\n",
      "res_OT greedy_sigma_4.0_basic.csv\n",
      "res_OT non greedy_sigma_0.0_basic.csv\n",
      "res_OT non greedy_sigma_0.5_basic.csv\n",
      "res_OT non greedy_sigma_1.0_basic.csv\n",
      "res_OT non greedy_sigma_1.5_basic.csv\n",
      "res_OT non greedy_sigma_2.0_basic.csv\n",
      "res_OT non greedy_sigma_2.5_basic.csv\n",
      "res_OT non greedy_sigma_3.0_basic.csv\n",
      "res_OT non greedy_sigma_3.5_basic.csv\n",
      "res_OT non greedy_sigma_4.0_basic.csv\n",
      "     sigma  accuracy         method test\n",
      "0      0.0  0.665116            GMN    1\n",
      "1      0.0  0.666161            GMN    2\n",
      "2      0.0  0.645833            GMN    3\n",
      "3      0.0  0.673748            GMN    4\n",
      "4      0.0  0.640986            GMN    5\n",
      "..     ...       ...            ...  ...\n",
      "215    4.0  0.395349  OT non greedy    1\n",
      "216    4.0  0.349014  OT non greedy    2\n",
      "217    4.0  0.370536  OT non greedy    3\n",
      "218    4.0  0.379363  OT non greedy    4\n",
      "219    4.0  0.385208  OT non greedy    5\n",
      "\n",
      "[220 rows x 4 columns]\n"
     ]
    }
   ],
   "source": [
    "res = pd.DataFrame(columns=['sigma', 'accuracy', 'method', 'test'])\n",
    "\n",
    "for file in os.listdir('cnn/results_basic'):\n",
    "    print(file)\n",
    "    df_sup = pd.read_csv(os.path.join('cnn/results_basic',file), index_col = 0)\n",
    "    res = pd.concat([res, df_sup], ignore_index=True)\n",
    "\n",
    "\n",
    "print(res)\n",
    "res.to_csv('cnn/results_basic/classification_results_basic.csv')\n",
    "\n",
    "                "
   ]
  }
 ],
 "metadata": {
  "kernel_info": {
   "name": "python3-azureml"
  },
  "kernelspec": {
   "display_name": "Python 3",
   "language": "python",
   "name": "python3"
  },
  "language_info": {
   "codemirror_mode": {
    "name": "ipython",
    "version": 3
   },
   "file_extension": ".py",
   "mimetype": "text/x-python",
   "name": "python",
   "nbconvert_exporter": "python",
   "pygments_lexer": "ipython3",
   "version": "3.6.5"
  },
  "nteract": {
   "version": "nteract-front-end@1.0.0"
  }
 },
 "nbformat": 4,
 "nbformat_minor": 2
}